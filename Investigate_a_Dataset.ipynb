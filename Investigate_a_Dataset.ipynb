{
 "cells": [
  {
   "cell_type": "markdown",
   "metadata": {},
   "source": [
    "# Project: Guessing the likelihood of showing up to the doctor's appointment from just basic info:\n",
    "\n",
    "\n",
    "\n",
    "## Table of Contents\n",
    "<ul>\n",
    "<li><a href=\"#intro\">Introduction</a></li>\n",
    "<li><a href=\"#Assess\">Assess</a></li>\n",
    "<li><a href=\"#cleaning\">Cleaning</a></li>\n",
    "<li><a href=\"#wrangle\">Data Wrangling and Feature Engineering</a></li>   \n",
    "<li><a href=\"#eda\">Exploratory Data Analysis</a></li>\n",
    "<li><a href=\"#Learning\">Machine Learning</a></li>\n",
    "<li><a href=\"#conc\">Conclusions</a></li>"
   ]
  },
  {
   "cell_type": "markdown",
   "metadata": {},
   "source": [
    "---------------"
   ]
  },
  {
   "cell_type": "markdown",
   "metadata": {},
   "source": [
    "## Introduction <a id='intro'></a>\n",
    "\n",
    "> We have a database of almost 110000 records of doctor's appointment and with the aid of cleaning, wrangling and then feature engineering we will be able to find a lot of insights, what features increase the likelihood of showing up the most and definately train an algorithm to efficiently predict the No show parameter when given a set of info about the patient and the appointment date."
   ]
  },
  {
   "cell_type": "code",
   "execution_count": 560,
   "metadata": {
    "scrolled": true
   },
   "outputs": [],
   "source": [
    "import numpy as np\n",
    "import pandas as pd\n",
    "from fuzzywuzzy import process, fuzz\n",
    "import warnings"
   ]
  },
  {
   "cell_type": "code",
   "execution_count": 561,
   "metadata": {},
   "outputs": [
    {
     "data": {
      "text/html": [
       "        <script type=\"text/javascript\">\n",
       "        window.PlotlyConfig = {MathJaxConfig: 'local'};\n",
       "        if (window.MathJax) {MathJax.Hub.Config({SVG: {font: \"STIX-Web\"}});}\n",
       "        if (typeof require !== 'undefined') {\n",
       "        require.undef(\"plotly\");\n",
       "        requirejs.config({\n",
       "            paths: {\n",
       "                'plotly': ['https://cdn.plot.ly/plotly-latest.min']\n",
       "            }\n",
       "        });\n",
       "        require(['plotly'], function(Plotly) {\n",
       "            window._Plotly = Plotly;\n",
       "        });\n",
       "        }\n",
       "        </script>\n",
       "        "
      ]
     },
     "metadata": {},
     "output_type": "display_data"
    }
   ],
   "source": [
    "import seaborn as sns\n",
    "import matplotlib.pyplot as plt\n",
    "import cufflinks as cf\n",
    "cf.go_offline()\n",
    "\n",
    "%matplotlib inline\n",
    "pd.set_option('display.max_columns', None)"
   ]
  },
  {
   "cell_type": "markdown",
   "metadata": {},
   "source": [
    "----------------"
   ]
  },
  {
   "cell_type": "markdown",
   "metadata": {},
   "source": [
    "## Data Assessing <a id='Assess'></a>"
   ]
  },
  {
   "cell_type": "code",
   "execution_count": 562,
   "metadata": {},
   "outputs": [
    {
     "data": {
      "text/html": [
       "<div>\n",
       "<style scoped>\n",
       "    .dataframe tbody tr th:only-of-type {\n",
       "        vertical-align: middle;\n",
       "    }\n",
       "\n",
       "    .dataframe tbody tr th {\n",
       "        vertical-align: top;\n",
       "    }\n",
       "\n",
       "    .dataframe thead th {\n",
       "        text-align: right;\n",
       "    }\n",
       "</style>\n",
       "<table border=\"1\" class=\"dataframe\">\n",
       "  <thead>\n",
       "    <tr style=\"text-align: right;\">\n",
       "      <th></th>\n",
       "      <th>PatientId</th>\n",
       "      <th>AppointmentID</th>\n",
       "      <th>Gender</th>\n",
       "      <th>ScheduledDay</th>\n",
       "      <th>AppointmentDay</th>\n",
       "      <th>Age</th>\n",
       "      <th>Neighbourhood</th>\n",
       "      <th>Scholarship</th>\n",
       "      <th>Hipertension</th>\n",
       "      <th>Diabetes</th>\n",
       "      <th>Alcoholism</th>\n",
       "      <th>Handcap</th>\n",
       "      <th>SMS_received</th>\n",
       "      <th>No-show</th>\n",
       "    </tr>\n",
       "  </thead>\n",
       "  <tbody>\n",
       "    <tr>\n",
       "      <th>12504</th>\n",
       "      <td>6.353920e+13</td>\n",
       "      <td>5692318</td>\n",
       "      <td>M</td>\n",
       "      <td>2016-05-12T14:59:56Z</td>\n",
       "      <td>2016-05-19T00:00:00Z</td>\n",
       "      <td>39</td>\n",
       "      <td>ILHA DE SANTA MARIA</td>\n",
       "      <td>0</td>\n",
       "      <td>0</td>\n",
       "      <td>0</td>\n",
       "      <td>0</td>\n",
       "      <td>0</td>\n",
       "      <td>0</td>\n",
       "      <td>Yes</td>\n",
       "    </tr>\n",
       "    <tr>\n",
       "      <th>28768</th>\n",
       "      <td>2.234249e+12</td>\n",
       "      <td>5734088</td>\n",
       "      <td>F</td>\n",
       "      <td>2016-05-24T14:52:16Z</td>\n",
       "      <td>2016-05-30T00:00:00Z</td>\n",
       "      <td>34</td>\n",
       "      <td>ROMÃO</td>\n",
       "      <td>1</td>\n",
       "      <td>0</td>\n",
       "      <td>0</td>\n",
       "      <td>0</td>\n",
       "      <td>0</td>\n",
       "      <td>1</td>\n",
       "      <td>Yes</td>\n",
       "    </tr>\n",
       "    <tr>\n",
       "      <th>60411</th>\n",
       "      <td>4.769462e+14</td>\n",
       "      <td>5609301</td>\n",
       "      <td>F</td>\n",
       "      <td>2016-04-20T15:33:43Z</td>\n",
       "      <td>2016-05-19T00:00:00Z</td>\n",
       "      <td>0</td>\n",
       "      <td>MARIA ORTIZ</td>\n",
       "      <td>0</td>\n",
       "      <td>0</td>\n",
       "      <td>0</td>\n",
       "      <td>0</td>\n",
       "      <td>0</td>\n",
       "      <td>0</td>\n",
       "      <td>Yes</td>\n",
       "    </tr>\n",
       "    <tr>\n",
       "      <th>86688</th>\n",
       "      <td>8.662268e+10</td>\n",
       "      <td>5750765</td>\n",
       "      <td>F</td>\n",
       "      <td>2016-05-31T09:17:28Z</td>\n",
       "      <td>2016-06-07T00:00:00Z</td>\n",
       "      <td>69</td>\n",
       "      <td>BONFIM</td>\n",
       "      <td>0</td>\n",
       "      <td>1</td>\n",
       "      <td>0</td>\n",
       "      <td>0</td>\n",
       "      <td>0</td>\n",
       "      <td>1</td>\n",
       "      <td>No</td>\n",
       "    </tr>\n",
       "    <tr>\n",
       "      <th>108049</th>\n",
       "      <td>2.852923e+14</td>\n",
       "      <td>5759369</td>\n",
       "      <td>F</td>\n",
       "      <td>2016-06-01T12:37:14Z</td>\n",
       "      <td>2016-06-01T00:00:00Z</td>\n",
       "      <td>2</td>\n",
       "      <td>SANTO ANTÔNIO</td>\n",
       "      <td>0</td>\n",
       "      <td>0</td>\n",
       "      <td>0</td>\n",
       "      <td>0</td>\n",
       "      <td>0</td>\n",
       "      <td>0</td>\n",
       "      <td>No</td>\n",
       "    </tr>\n",
       "  </tbody>\n",
       "</table>\n",
       "</div>"
      ],
      "text/plain": [
       "           PatientId  AppointmentID Gender          ScheduledDay  \\\n",
       "12504   6.353920e+13        5692318      M  2016-05-12T14:59:56Z   \n",
       "28768   2.234249e+12        5734088      F  2016-05-24T14:52:16Z   \n",
       "60411   4.769462e+14        5609301      F  2016-04-20T15:33:43Z   \n",
       "86688   8.662268e+10        5750765      F  2016-05-31T09:17:28Z   \n",
       "108049  2.852923e+14        5759369      F  2016-06-01T12:37:14Z   \n",
       "\n",
       "              AppointmentDay  Age        Neighbourhood  Scholarship  \\\n",
       "12504   2016-05-19T00:00:00Z   39  ILHA DE SANTA MARIA            0   \n",
       "28768   2016-05-30T00:00:00Z   34                ROMÃO            1   \n",
       "60411   2016-05-19T00:00:00Z    0          MARIA ORTIZ            0   \n",
       "86688   2016-06-07T00:00:00Z   69               BONFIM            0   \n",
       "108049  2016-06-01T00:00:00Z    2        SANTO ANTÔNIO            0   \n",
       "\n",
       "        Hipertension  Diabetes  Alcoholism  Handcap  SMS_received No-show  \n",
       "12504              0         0           0        0             0     Yes  \n",
       "28768              0         0           0        0             1     Yes  \n",
       "60411              0         0           0        0             0     Yes  \n",
       "86688              1         0           0        0             1      No  \n",
       "108049             0         0           0        0             0      No  "
      ]
     },
     "execution_count": 562,
     "metadata": {},
     "output_type": "execute_result"
    }
   ],
   "source": [
    "df = pd.read_csv('noshowappointments-kagglev2-may-2016.csv')\n",
    "df.sample(5)"
   ]
  },
  {
   "cell_type": "markdown",
   "metadata": {},
   "source": [
    "* 'PatientId' is scientific and this needs to be changed.\n",
    "* Rename 'Scolarship' to 'Bolsa Família' since it's easier to search for. \n",
    "* Rename 'AppointmentID' to 'AppointmentId'.\n",
    "* Rename 'SMS_received' to 'ReceivedText'\n",
    "* Rename 'No-show' to 'ٍShowedUp'.\n",
    "* 'Neighbourhood' has its info all capped which reduces readability."
   ]
  },
  {
   "cell_type": "code",
   "execution_count": 563,
   "metadata": {},
   "outputs": [
    {
     "name": "stdout",
     "output_type": "stream",
     "text": [
      "<class 'pandas.core.frame.DataFrame'>\n",
      "RangeIndex: 110527 entries, 0 to 110526\n",
      "Data columns (total 14 columns):\n",
      " #   Column          Non-Null Count   Dtype  \n",
      "---  ------          --------------   -----  \n",
      " 0   PatientId       110527 non-null  float64\n",
      " 1   AppointmentID   110527 non-null  int64  \n",
      " 2   Gender          110527 non-null  object \n",
      " 3   ScheduledDay    110527 non-null  object \n",
      " 4   AppointmentDay  110527 non-null  object \n",
      " 5   Age             110527 non-null  int64  \n",
      " 6   Neighbourhood   110527 non-null  object \n",
      " 7   Scholarship     110527 non-null  int64  \n",
      " 8   Hipertension    110527 non-null  int64  \n",
      " 9   Diabetes        110527 non-null  int64  \n",
      " 10  Alcoholism      110527 non-null  int64  \n",
      " 11  Handcap         110527 non-null  int64  \n",
      " 12  SMS_received    110527 non-null  int64  \n",
      " 13  No-show         110527 non-null  object \n",
      "dtypes: float64(1), int64(8), object(5)\n",
      "memory usage: 11.8+ MB\n"
     ]
    }
   ],
   "source": [
    "df.info()"
   ]
  },
  {
   "cell_type": "markdown",
   "metadata": {},
   "source": [
    "* 'PatientId' and 'AppointmentID' data types need to be (Str).\n",
    "* 'ScheduledDay' and 'AppointmentDay' data types need to be (Daytime).\n",
    "* 'Scholarship', 'Hipertension', 'Diabetes', 'Alcoholism', 'Handcap', 'SMS_received' and 'No-show' data types need to be (Boolean).\n",
    "* 'Gender' and 'Neighbourhood' should be categoral"
   ]
  },
  {
   "cell_type": "code",
   "execution_count": 564,
   "metadata": {
    "scrolled": true
   },
   "outputs": [
    {
     "data": {
      "text/plain": [
       "PatientId          62299\n",
       "AppointmentID     110527\n",
       "Gender                 2\n",
       "ScheduledDay      103549\n",
       "AppointmentDay        27\n",
       "Age                  104\n",
       "Neighbourhood         81\n",
       "Scholarship            2\n",
       "Hipertension           2\n",
       "Diabetes               2\n",
       "Alcoholism             2\n",
       "Handcap                5\n",
       "SMS_received           2\n",
       "No-show                2\n",
       "dtype: int64"
      ]
     },
     "execution_count": 564,
     "metadata": {},
     "output_type": "execute_result"
    }
   ],
   "source": [
    "df.nunique()"
   ]
  },
  {
   "cell_type": "markdown",
   "metadata": {},
   "source": [
    "* We can see that patients had multiple visits and that's why 'PatientId' is less than (110527).\n",
    "* 'Handcap' column has 5 values although it should be only 2 so this needs to be fixed."
   ]
  },
  {
   "cell_type": "code",
   "execution_count": 565,
   "metadata": {},
   "outputs": [
    {
     "data": {
      "text/plain": [
       "0    108286\n",
       "1      2042\n",
       "2       183\n",
       "3        13\n",
       "4         3\n",
       "Name: Handcap, dtype: int64"
      ]
     },
     "execution_count": 565,
     "metadata": {},
     "output_type": "execute_result"
    }
   ],
   "source": [
    "df.Handcap.value_counts()"
   ]
  },
  {
   "cell_type": "markdown",
   "metadata": {},
   "source": [
    "* As mentioned, seems like the numbers refer to different types of handicapcy or maybe it's a typo."
   ]
  },
  {
   "cell_type": "code",
   "execution_count": 566,
   "metadata": {},
   "outputs": [
    {
     "data": {
      "text/plain": [
       "115"
      ]
     },
     "execution_count": 566,
     "metadata": {},
     "output_type": "execute_result"
    }
   ],
   "source": [
    "df.Age.max()"
   ]
  },
  {
   "cell_type": "code",
   "execution_count": 567,
   "metadata": {},
   "outputs": [
    {
     "data": {
      "text/plain": [
       "-1"
      ]
     },
     "execution_count": 567,
     "metadata": {},
     "output_type": "execute_result"
    }
   ],
   "source": [
    "df.Age.min()"
   ]
  },
  {
   "cell_type": "markdown",
   "metadata": {},
   "source": [
    "* Most propably this is a typo and it will be fixed."
   ]
  },
  {
   "cell_type": "code",
   "execution_count": 568,
   "metadata": {},
   "outputs": [
    {
     "data": {
      "text/html": [
       "<div>\n",
       "<style scoped>\n",
       "    .dataframe tbody tr th:only-of-type {\n",
       "        vertical-align: middle;\n",
       "    }\n",
       "\n",
       "    .dataframe tbody tr th {\n",
       "        vertical-align: top;\n",
       "    }\n",
       "\n",
       "    .dataframe thead th {\n",
       "        text-align: right;\n",
       "    }\n",
       "</style>\n",
       "<table border=\"1\" class=\"dataframe\">\n",
       "  <thead>\n",
       "    <tr style=\"text-align: right;\">\n",
       "      <th></th>\n",
       "      <th>PatientId</th>\n",
       "      <th>AppointmentID</th>\n",
       "      <th>Gender</th>\n",
       "      <th>ScheduledDay</th>\n",
       "      <th>AppointmentDay</th>\n",
       "      <th>Age</th>\n",
       "      <th>Neighbourhood</th>\n",
       "      <th>Scholarship</th>\n",
       "      <th>Hipertension</th>\n",
       "      <th>Diabetes</th>\n",
       "      <th>Alcoholism</th>\n",
       "      <th>Handcap</th>\n",
       "      <th>SMS_received</th>\n",
       "      <th>No-show</th>\n",
       "    </tr>\n",
       "  </thead>\n",
       "  <tbody>\n",
       "    <tr>\n",
       "      <th>99832</th>\n",
       "      <td>4.659432e+14</td>\n",
       "      <td>5775010</td>\n",
       "      <td>F</td>\n",
       "      <td>2016-06-06T08:58:13Z</td>\n",
       "      <td>2016-06-06T00:00:00Z</td>\n",
       "      <td>-1</td>\n",
       "      <td>ROMÃO</td>\n",
       "      <td>0</td>\n",
       "      <td>0</td>\n",
       "      <td>0</td>\n",
       "      <td>0</td>\n",
       "      <td>0</td>\n",
       "      <td>0</td>\n",
       "      <td>No</td>\n",
       "    </tr>\n",
       "  </tbody>\n",
       "</table>\n",
       "</div>"
      ],
      "text/plain": [
       "          PatientId  AppointmentID Gender          ScheduledDay  \\\n",
       "99832  4.659432e+14        5775010      F  2016-06-06T08:58:13Z   \n",
       "\n",
       "             AppointmentDay  Age Neighbourhood  Scholarship  Hipertension  \\\n",
       "99832  2016-06-06T00:00:00Z   -1         ROMÃO            0             0   \n",
       "\n",
       "       Diabetes  Alcoholism  Handcap  SMS_received No-show  \n",
       "99832         0           0        0             0      No  "
      ]
     },
     "execution_count": 568,
     "metadata": {},
     "output_type": "execute_result"
    }
   ],
   "source": [
    "df[df.Age == df.Age.min()]"
   ]
  },
  {
   "cell_type": "code",
   "execution_count": 569,
   "metadata": {},
   "outputs": [
    {
     "data": {
      "text/plain": [
       "79272     100\n",
       "108506    100\n",
       "92084     100\n",
       "90372     102\n",
       "58014     102\n",
       "63915     115\n",
       "76284     115\n",
       "68127     115\n",
       "63912     115\n",
       "97666     115\n",
       "Name: Age, dtype: int64"
      ]
     },
     "execution_count": 569,
     "metadata": {},
     "output_type": "execute_result"
    }
   ],
   "source": [
    "df.Age.sort_values().tail(10)"
   ]
  },
  {
   "cell_type": "code",
   "execution_count": 570,
   "metadata": {},
   "outputs": [
    {
     "data": {
      "text/html": [
       "<div>\n",
       "<style scoped>\n",
       "    .dataframe tbody tr th:only-of-type {\n",
       "        vertical-align: middle;\n",
       "    }\n",
       "\n",
       "    .dataframe tbody tr th {\n",
       "        vertical-align: top;\n",
       "    }\n",
       "\n",
       "    .dataframe thead th {\n",
       "        text-align: right;\n",
       "    }\n",
       "</style>\n",
       "<table border=\"1\" class=\"dataframe\">\n",
       "  <thead>\n",
       "    <tr style=\"text-align: right;\">\n",
       "      <th></th>\n",
       "      <th>PatientId</th>\n",
       "      <th>AppointmentID</th>\n",
       "      <th>Gender</th>\n",
       "      <th>ScheduledDay</th>\n",
       "      <th>AppointmentDay</th>\n",
       "      <th>Age</th>\n",
       "      <th>Neighbourhood</th>\n",
       "      <th>Scholarship</th>\n",
       "      <th>Hipertension</th>\n",
       "      <th>Diabetes</th>\n",
       "      <th>Alcoholism</th>\n",
       "      <th>Handcap</th>\n",
       "      <th>SMS_received</th>\n",
       "      <th>No-show</th>\n",
       "    </tr>\n",
       "  </thead>\n",
       "  <tbody>\n",
       "    <tr>\n",
       "      <th>63912</th>\n",
       "      <td>3.196321e+13</td>\n",
       "      <td>5700278</td>\n",
       "      <td>F</td>\n",
       "      <td>2016-05-16T09:17:44Z</td>\n",
       "      <td>2016-05-19T00:00:00Z</td>\n",
       "      <td>115</td>\n",
       "      <td>ANDORINHAS</td>\n",
       "      <td>0</td>\n",
       "      <td>0</td>\n",
       "      <td>0</td>\n",
       "      <td>0</td>\n",
       "      <td>1</td>\n",
       "      <td>0</td>\n",
       "      <td>Yes</td>\n",
       "    </tr>\n",
       "    <tr>\n",
       "      <th>63915</th>\n",
       "      <td>3.196321e+13</td>\n",
       "      <td>5700279</td>\n",
       "      <td>F</td>\n",
       "      <td>2016-05-16T09:17:44Z</td>\n",
       "      <td>2016-05-19T00:00:00Z</td>\n",
       "      <td>115</td>\n",
       "      <td>ANDORINHAS</td>\n",
       "      <td>0</td>\n",
       "      <td>0</td>\n",
       "      <td>0</td>\n",
       "      <td>0</td>\n",
       "      <td>1</td>\n",
       "      <td>0</td>\n",
       "      <td>Yes</td>\n",
       "    </tr>\n",
       "    <tr>\n",
       "      <th>68127</th>\n",
       "      <td>3.196321e+13</td>\n",
       "      <td>5562812</td>\n",
       "      <td>F</td>\n",
       "      <td>2016-04-08T14:29:17Z</td>\n",
       "      <td>2016-05-16T00:00:00Z</td>\n",
       "      <td>115</td>\n",
       "      <td>ANDORINHAS</td>\n",
       "      <td>0</td>\n",
       "      <td>0</td>\n",
       "      <td>0</td>\n",
       "      <td>0</td>\n",
       "      <td>1</td>\n",
       "      <td>0</td>\n",
       "      <td>Yes</td>\n",
       "    </tr>\n",
       "    <tr>\n",
       "      <th>76284</th>\n",
       "      <td>3.196321e+13</td>\n",
       "      <td>5744037</td>\n",
       "      <td>F</td>\n",
       "      <td>2016-05-30T09:44:51Z</td>\n",
       "      <td>2016-05-30T00:00:00Z</td>\n",
       "      <td>115</td>\n",
       "      <td>ANDORINHAS</td>\n",
       "      <td>0</td>\n",
       "      <td>0</td>\n",
       "      <td>0</td>\n",
       "      <td>0</td>\n",
       "      <td>1</td>\n",
       "      <td>0</td>\n",
       "      <td>No</td>\n",
       "    </tr>\n",
       "    <tr>\n",
       "      <th>97666</th>\n",
       "      <td>7.482346e+14</td>\n",
       "      <td>5717451</td>\n",
       "      <td>F</td>\n",
       "      <td>2016-05-19T07:57:56Z</td>\n",
       "      <td>2016-06-03T00:00:00Z</td>\n",
       "      <td>115</td>\n",
       "      <td>SÃO JOSÉ</td>\n",
       "      <td>0</td>\n",
       "      <td>1</td>\n",
       "      <td>0</td>\n",
       "      <td>0</td>\n",
       "      <td>0</td>\n",
       "      <td>1</td>\n",
       "      <td>No</td>\n",
       "    </tr>\n",
       "  </tbody>\n",
       "</table>\n",
       "</div>"
      ],
      "text/plain": [
       "          PatientId  AppointmentID Gender          ScheduledDay  \\\n",
       "63912  3.196321e+13        5700278      F  2016-05-16T09:17:44Z   \n",
       "63915  3.196321e+13        5700279      F  2016-05-16T09:17:44Z   \n",
       "68127  3.196321e+13        5562812      F  2016-04-08T14:29:17Z   \n",
       "76284  3.196321e+13        5744037      F  2016-05-30T09:44:51Z   \n",
       "97666  7.482346e+14        5717451      F  2016-05-19T07:57:56Z   \n",
       "\n",
       "             AppointmentDay  Age Neighbourhood  Scholarship  Hipertension  \\\n",
       "63912  2016-05-19T00:00:00Z  115    ANDORINHAS            0             0   \n",
       "63915  2016-05-19T00:00:00Z  115    ANDORINHAS            0             0   \n",
       "68127  2016-05-16T00:00:00Z  115    ANDORINHAS            0             0   \n",
       "76284  2016-05-30T00:00:00Z  115    ANDORINHAS            0             0   \n",
       "97666  2016-06-03T00:00:00Z  115      SÃO JOSÉ            0             1   \n",
       "\n",
       "       Diabetes  Alcoholism  Handcap  SMS_received No-show  \n",
       "63912         0           0        1             0     Yes  \n",
       "63915         0           0        1             0     Yes  \n",
       "68127         0           0        1             0     Yes  \n",
       "76284         0           0        1             0      No  \n",
       "97666         0           0        0             1      No  "
      ]
     },
     "execution_count": 570,
     "metadata": {},
     "output_type": "execute_result"
    }
   ],
   "source": [
    "df[df.Age == df.Age.max()]"
   ]
  },
  {
   "cell_type": "markdown",
   "metadata": {},
   "source": [
    "* Checking for Age outliers but everything seems fine."
   ]
  },
  {
   "cell_type": "code",
   "execution_count": 571,
   "metadata": {},
   "outputs": [],
   "source": [
    "uniques = (df.Neighbourhood.value_counts())"
   ]
  },
  {
   "cell_type": "code",
   "execution_count": 572,
   "metadata": {},
   "outputs": [],
   "source": [
    "ratios = pd.DataFrame(index=uniques.index, columns=uniques.index)"
   ]
  },
  {
   "cell_type": "code",
   "execution_count": 573,
   "metadata": {},
   "outputs": [],
   "source": [
    "for x in uniques.index:\n",
    "    for y in uniques.index:\n",
    "        ratios.loc[x][y] = fuzz.ratio(x,y)"
   ]
  },
  {
   "cell_type": "code",
   "execution_count": 574,
   "metadata": {},
   "outputs": [
    {
     "name": "stdout",
     "output_type": "stream",
     "text": [
      "\n",
      "JARDIM CAMBURI       100\n",
      "PONTAL DE CAMBURI     65\n",
      "MORADA DE CAMBURI     58\n",
      "JARDIM DA PENHA       55\n",
      "DO CABRAL             52\n",
      "Name: JARDIM CAMBURI, dtype: object \n",
      "\n",
      "\n",
      "MARIA ORTIZ       100\n",
      "AEROPORTO          50\n",
      "MATA DA PRAIA      50\n",
      "VILA RUBIM         48\n",
      "MÁRIO CYPRESTE     48\n",
      "Name: MARIA ORTIZ, dtype: object \n",
      "\n",
      "\n",
      "RESISTÊNCIA          100\n",
      "PARQUE INDUSTRIAL     50\n",
      "REPÚBLICA             50\n",
      "BELA VISTA            48\n",
      "ESTRELINHA            48\n",
      "Name: RESISTÊNCIA, dtype: object \n",
      "\n",
      "\n",
      "JARDIM DA PENHA    100\n",
      "DA PENHA            70\n",
      "JARDIM CAMBURI      55\n",
      "MATA DA PRAIA       50\n",
      "ANDORINHAS          48\n",
      "Name: JARDIM DA PENHA, dtype: object \n",
      "\n",
      "\n",
      "ITARARÉ        100\n",
      "CARATOÍRA       50\n",
      "GOIABEIRAS      47\n",
      "TABUAZEIRO      47\n",
      "SANTA CLARA     44\n",
      "Name: ITARARÉ, dtype: object \n",
      "\n",
      "\n",
      "CENTRO          100\n",
      "CRUZAMENTO       62\n",
      "SÃO BENEDITO     44\n",
      "REDENÇÃO         43\n",
      "AEROPORTO        40\n",
      "Name: CENTRO, dtype: object \n",
      "\n",
      "\n",
      "TABUAZEIRO    100\n",
      "GOIABEIRAS     50\n",
      "AEROPORTO      42\n",
      "DO QUADRO      42\n",
      "CENTRO         38\n",
      "Name: TABUAZEIRO, dtype: object \n",
      "\n",
      "\n",
      "SANTA MARTHA           100\n",
      "SANTA CLARA             78\n",
      "SANTA HELENA            67\n",
      "SANTA TEREZA            67\n",
      "ILHA DE SANTA MARIA     65\n",
      "Name: SANTA MARTHA, dtype: object \n",
      "\n",
      "\n",
      "JESUS DE NAZARETH    100\n",
      "NAZARETH              64\n",
      "SEGURANÇA DO LAR      42\n",
      "SANTA MARTHA          41\n",
      "SÃO BENEDITO          41\n",
      "Name: JESUS DE NAZARETH, dtype: object \n",
      "\n",
      "\n",
      "BONFIM            100\n",
      "CONQUISTA          40\n",
      "BENTO FERREIRA     40\n",
      "BOA VISTA          40\n",
      "VILA RUBIM         38\n",
      "Name: BONFIM, dtype: object \n",
      "\n",
      "\n",
      "SANTO ANTÔNIO      100\n",
      "SANTO ANDRÉ         67\n",
      "SANTOS DUMONT       62\n",
      "SANTOS REIS         58\n",
      "ANTÔNIO HONÓRIO     50\n",
      "Name: SANTO ANTÔNIO, dtype: object \n",
      "\n",
      "\n",
      "SANTO ANDRÉ      100\n",
      "SANTO ANTÔNIO     67\n",
      "SANTOS REIS       64\n",
      "SANTOS DUMONT     58\n",
      "SANTA CLARA       55\n",
      "Name: SANTO ANDRÉ, dtype: object \n",
      "\n",
      "\n",
      "CARATOÍRA      100\n",
      "CRUZAMENTO      53\n",
      "MARIA ORTIZ     50\n",
      "ITARARÉ         50\n",
      "AEROPORTO       44\n",
      "Name: CARATOÍRA, dtype: object \n",
      "\n",
      "\n",
      "JABOUR            100\n",
      "JARDIM CAMBURI     50\n",
      "TABUAZEIRO         50\n",
      "DO CABRAL          40\n",
      "DO QUADRO          40\n",
      "Name: JABOUR, dtype: object \n",
      "\n",
      "\n",
      "SÃO PEDRO        100\n",
      "SÃO BENEDITO      67\n",
      "SÃO JOSÉ          59\n",
      "DO QUADRO         56\n",
      "SÃO CRISTÓVÃO     55\n",
      "Name: SÃO PEDRO, dtype: object \n",
      "\n",
      "\n",
      "ILHA DO PRÍNCIPE     100\n",
      "ILHA DO FRADE         69\n",
      "ILHA DO BOI           67\n",
      "ILHA DAS CAIEIRAS     61\n",
      "MATA DA PRAIA         48\n",
      "Name: ILHA DO PRÍNCIPE, dtype: object \n",
      "\n",
      "\n",
      "NOVA PALESTINA         100\n",
      "DA PENHA                55\n",
      "ARIOVALDO FAVALESSA     55\n",
      "SANTA HELENA            54\n",
      "BOA VISTA               52\n",
      "Name: NOVA PALESTINA, dtype: object \n",
      "\n",
      "\n",
      "ANDORINHAS         100\n",
      "FRADINHOS           53\n",
      "GRANDE VITÓRIA      50\n",
      "ESTRELINHA          50\n",
      "JARDIM DA PENHA     48\n",
      "Name: ANDORINHAS, dtype: object \n",
      "\n",
      "\n",
      "DA PENHA           100\n",
      "JARDIM DA PENHA     70\n",
      "SANTA HELENA        50\n",
      "MATA DA PRAIA       48\n",
      "ANDORINHAS          44\n",
      "Name: DA PENHA, dtype: object \n",
      "\n",
      "\n",
      "ROMÃO             100\n",
      "REDENÇÃO           46\n",
      "AEROPORTO          43\n",
      "BARRO VERMELHO     42\n",
      "CONSOLAÇÃO         40\n",
      "Name: ROMÃO, dtype: object \n",
      "\n",
      "\n",
      "GURIGICA          100\n",
      "REPÚBLICA          47\n",
      "RESISTÊNCIA        42\n",
      "GRANDE VITÓRIA     36\n",
      "PRAIA DO CANTO     36\n",
      "Name: GURIGICA, dtype: object \n",
      "\n",
      "\n",
      "SÃO JOSÉ          100\n",
      "SÃO PEDRO          59\n",
      "FORTE SÃO JOÃO     55\n",
      "SÃO BENEDITO       50\n",
      "SÃO CRISTÓVÃO      48\n",
      "Name: SÃO JOSÉ, dtype: object \n",
      "\n",
      "\n",
      "BELA VISTA           100\n",
      "BOA VISTA             84\n",
      "GRANDE VITÓRIA        50\n",
      "RESISTÊNCIA           48\n",
      "PARQUE INDUSTRIAL     44\n",
      "Name: BELA VISTA, dtype: object \n",
      "\n",
      "\n",
      "MARUÍPE             100\n",
      "ILHA DO PRÍNCIPE     43\n",
      "NAZARETH             40\n",
      "DA PENHA             40\n",
      "MÁRIO CYPRESTE       38\n",
      "Name: MARUÍPE, dtype: object \n",
      "\n",
      "\n",
      "FORTE SÃO JOÃO    100\n",
      "SÃO JOSÉ           55\n",
      "SÃO CRISTÓVÃO      44\n",
      "PARQUE MOSCOSO     43\n",
      "SÃO PEDRO          43\n",
      "Name: FORTE SÃO JOÃO, dtype: object \n",
      "\n",
      "\n",
      "ILHA DE SANTA MARIA    100\n",
      "SANTA MARTHA            65\n",
      "ILHA DAS CAIEIRAS       61\n",
      "SANTA CLARA             60\n",
      "ILHA DO FRADE           56\n",
      "Name: ILHA DE SANTA MARIA, dtype: object \n",
      "\n",
      "\n",
      "SÃO CRISTÓVÃO    100\n",
      "SÃO BENEDITO      56\n",
      "SÃO PEDRO         55\n",
      "SANTOS REIS       50\n",
      "SÃO JOSÉ          48\n",
      "Name: SÃO CRISTÓVÃO, dtype: object \n",
      "\n",
      "\n",
      "REDENÇÃO      100\n",
      "FRADINHOS      47\n",
      "ROMÃO          46\n",
      "CRUZAMENTO     44\n",
      "CONSOLAÇÃO     44\n",
      "Name: REDENÇÃO, dtype: object \n",
      "\n",
      "\n",
      "SÃO BENEDITO     100\n",
      "SÃO PEDRO         67\n",
      "SÃO CRISTÓVÃO     56\n",
      "SÃO JOSÉ          50\n",
      "MONTE BELO        45\n",
      "Name: SÃO BENEDITO, dtype: object \n",
      "\n",
      "\n",
      "JOANA D´ARC         100\n",
      "SANTA CLARA          55\n",
      "SEGURANÇA DO LAR     52\n",
      "SANTA MARTHA         52\n",
      "MATA DA PRAIA        50\n",
      "Name: JOANA D´ARC, dtype: object \n",
      "\n",
      "\n",
      "CRUZAMENTO    100\n",
      "CENTRO         62\n",
      "REDENÇÃO       44\n",
      "NAZARETH       44\n",
      "FRADINHOS      42\n",
      "Name: CRUZAMENTO, dtype: object \n",
      "\n",
      "\n",
      "CONSOLAÇÃO    100\n",
      "CONQUISTA      53\n",
      "COMDUSA        47\n",
      "REDENÇÃO       44\n",
      "MONTE BELO     40\n",
      "Name: CONSOLAÇÃO, dtype: object \n",
      "\n",
      "\n",
      "SANTA TEREZA     100\n",
      "SANTA HELENA      75\n",
      "SANTA LUÍZA       70\n",
      "SANTA CECÍLIA     64\n",
      "SANTA LÚCIA       61\n",
      "Name: SANTA TEREZA, dtype: object \n",
      "\n",
      "\n",
      "PRAIA DO SUÁ        100\n",
      "PRAIA DO CANTO       69\n",
      "ENSEADA DO SUÁ       69\n",
      "ILHA DO BOI          52\n",
      "SEGURANÇA DO LAR     50\n",
      "Name: PRAIA DO SUÁ, dtype: object \n",
      "\n",
      "\n",
      "SANTOS DUMONT    100\n",
      "SANTO ANTÔNIO     62\n",
      "SANTOS REIS       58\n",
      "SANTO ANDRÉ       58\n",
      "SANTA MARTHA      56\n",
      "Name: SANTOS DUMONT, dtype: object \n",
      "\n",
      "\n",
      "GRANDE VITÓRIA       100\n",
      "PARQUE INDUSTRIAL     52\n",
      "BOA VISTA             52\n",
      "ANDORINHAS            50\n",
      "BELA VISTA            50\n",
      "Name: GRANDE VITÓRIA, dtype: object \n",
      "\n",
      "\n",
      "ILHA DAS CAIEIRAS              100\n",
      "ILHA DO FRADE                   60\n",
      "ILHA DO BOI                     57\n",
      "GOIABEIRAS                      52\n",
      "ILHAS OCEÂNICAS DE TRINDADE     50\n",
      "Name: ILHA DAS CAIEIRAS, dtype: object \n",
      "\n",
      "\n",
      "INHANGUETÁ          100\n",
      "NAZARETH             44\n",
      "ESTRELINHA           40\n",
      "ANDORINHAS           40\n",
      "ILHA DO PRÍNCIPE     38\n",
      "Name: INHANGUETÁ, dtype: object \n",
      "\n",
      "\n",
      "PRAIA DO CANTO      100\n",
      "PRAIA DO SUÁ         69\n",
      "ILHA DO BOI          56\n",
      "SEGURANÇA DO LAR     53\n",
      "ILHA DO FRADE        52\n",
      "Name: PRAIA DO CANTO, dtype: object \n",
      "\n",
      "\n",
      "BENTO FERREIRA    100\n",
      "SANTOS REIS        56\n",
      "SANTA TEREZA       54\n",
      "ESTRELINHA         50\n",
      "GOIABEIRAS         42\n",
      "Name: BENTO FERREIRA, dtype: object \n",
      "\n",
      "\n",
      "VILA RUBIM          100\n",
      "ILHA DO BOI          57\n",
      "MARIA ORTIZ          48\n",
      "ILHA DO PRÍNCIPE     46\n",
      "ILHA DO FRADE        43\n",
      "Name: VILA RUBIM, dtype: object \n",
      "\n",
      "\n",
      "CONQUISTA            100\n",
      "COMDUSA               62\n",
      "BOA VISTA             56\n",
      "CONSOLAÇÃO            53\n",
      "PARQUE INDUSTRIAL     46\n",
      "Name: CONQUISTA, dtype: object \n",
      "\n",
      "\n",
      "DO QUADRO        100\n",
      "DO CABRAL         56\n",
      "SÃO PEDRO         56\n",
      "SANTO ANDRÉ       50\n",
      "ILHA DO FRADE     45\n",
      "Name: DO QUADRO, dtype: object \n",
      "\n",
      "\n",
      "REPÚBLICA      100\n",
      "ESTRELINHA      53\n",
      "RESISTÊNCIA     50\n",
      "GURIGICA        47\n",
      "PIEDADE         38\n",
      "Name: REPÚBLICA, dtype: object \n",
      "\n",
      "\n",
      "MONTE BELO           100\n",
      "FONTE GRANDE          55\n",
      "SANTA HELENA          45\n",
      "SÃO BENEDITO          45\n",
      "PONTAL DE CAMBURI     44\n",
      "Name: MONTE BELO, dtype: object \n",
      "\n",
      "\n",
      "PARQUE MOSCOSO       100\n",
      "DO MOSCOSO            67\n",
      "PARQUE INDUSTRIAL     52\n",
      "PRAIA DO CANTO        43\n",
      "AEROPORTO             43\n",
      "Name: PARQUE MOSCOSO, dtype: object \n",
      "\n",
      "\n",
      "GOIABEIRAS           100\n",
      "DO CABRAL             53\n",
      "ILHA DAS CAIEIRAS     52\n",
      "TABUAZEIRO            50\n",
      "ITARARÉ               47\n",
      "Name: GOIABEIRAS, dtype: object \n",
      "\n",
      "\n",
      "JUCUTUQUARA    100\n",
      "ITARARÉ         44\n",
      "DO CABRAL       40\n",
      "DO QUADRO       40\n",
      "CONQUISTA       40\n",
      "Name: JUCUTUQUARA, dtype: object \n",
      "\n",
      "\n",
      "FONTE GRANDE        100\n",
      "MONTE BELO           55\n",
      "SANTO ANDRÉ          52\n",
      "GRANDE VITÓRIA       46\n",
      "SEGURANÇA DO LAR     43\n",
      "Name: FONTE GRANDE, dtype: object \n",
      "\n",
      "\n",
      "MATA DA PRAIA        100\n",
      "SANTA CLARA           58\n",
      "SANTA MARTHA          56\n",
      "ILHA DAS CAIEIRAS     53\n",
      "JOANA D´ARC           50\n",
      "Name: MATA DA PRAIA, dtype: object \n",
      "\n",
      "\n",
      "DO CABRAL         100\n",
      "DO QUADRO          56\n",
      "GOIABEIRAS         53\n",
      "JARDIM CAMBURI     52\n",
      "SANTA CLARA        50\n",
      "Name: DO CABRAL, dtype: object \n",
      "\n",
      "\n",
      "SANTOS REIS      100\n",
      "SANTO ANDRÉ       64\n",
      "SANTA TEREZA      61\n",
      "SANTA CECÍLIA     58\n",
      "SANTOS DUMONT     58\n",
      "Name: SANTOS REIS, dtype: object \n",
      "\n",
      "\n",
      "ESTRELINHA        100\n",
      "SANTA HELENA       55\n",
      "REPÚBLICA          53\n",
      "SANTA CECÍLIA      52\n",
      "NOVA PALESTINA     50\n",
      "Name: ESTRELINHA, dtype: object \n",
      "\n",
      "\n",
      "SANTA CLARA      100\n",
      "SANTA MARTHA      78\n",
      "SANTA CECÍLIA     75\n",
      "SANTA LÚCIA       73\n",
      "SANTA LUÍZA       73\n",
      "Name: SANTA CLARA, dtype: object \n",
      "\n",
      "\n",
      "SOLON BORGES    100\n",
      "SÃO JOSÉ         50\n",
      "DE LOURDES       45\n",
      "MONTE BELO       45\n",
      "ILHA DO BOI      43\n",
      "Name: SOLON BORGES, dtype: object \n",
      "\n",
      "\n",
      "PIEDADE          100\n",
      "ILHA DO FRADE     50\n",
      "FONTE GRANDE      42\n",
      "DA PENHA          40\n",
      "REDENÇÃO          40\n",
      "Name: PIEDADE, dtype: object \n",
      "\n",
      "\n",
      "SANTA CECÍLIA    100\n",
      "SANTA LÚCIA       75\n",
      "SANTA CLARA       75\n",
      "SANTA HELENA      72\n",
      "SANTA LUÍZA       67\n",
      "Name: SANTA CECÍLIA, dtype: object \n",
      "\n",
      "\n",
      "SANTA LÚCIA      100\n",
      "SANTA CECÍLIA     75\n",
      "SANTA LUÍZA       73\n",
      "SANTA CLARA       73\n",
      "SANTA HELENA      70\n",
      "Name: SANTA LÚCIA, dtype: object \n",
      "\n",
      "\n",
      "SANTA LUÍZA     100\n",
      "SANTA CLARA      73\n",
      "SANTA LÚCIA      73\n",
      "SANTA TEREZA     70\n",
      "SANTA HELENA     70\n",
      "Name: SANTA LUÍZA, dtype: object \n",
      "\n",
      "\n",
      "BARRO VERMELHO    100\n",
      "SÃO PEDRO          43\n",
      "BENTO FERREIRA     43\n",
      "ESTRELINHA         42\n",
      "ROMÃO              42\n",
      "Name: BARRO VERMELHO, dtype: object \n",
      "\n",
      "\n",
      "DO MOSCOSO        100\n",
      "PARQUE MOSCOSO     67\n",
      "SÃO JOSÉ           44\n",
      "SÃO CRISTÓVÃO      43\n",
      "PRAIA DO CANTO     42\n",
      "Name: DO MOSCOSO, dtype: object \n",
      "\n",
      "\n",
      "MÁRIO CYPRESTE    100\n",
      "MARIA ORTIZ        48\n",
      "SÃO CRISTÓVÃO      44\n",
      "NOVA PALESTINA     43\n",
      "PRAIA DO CANTO     43\n",
      "Name: MÁRIO CYPRESTE, dtype: object \n",
      "\n",
      "\n",
      "BOA VISTA         100\n",
      "BELA VISTA         84\n",
      "CONQUISTA          56\n",
      "GRANDE VITÓRIA     52\n",
      "NOVA PALESTINA     52\n",
      "Name: BOA VISTA, dtype: object \n",
      "\n",
      "\n",
      "COMDUSA       100\n",
      "CONQUISTA      62\n",
      "CONSOLAÇÃO     47\n",
      "DO QUADRO      38\n",
      "DE LOURDES     35\n",
      "Name: COMDUSA, dtype: object \n",
      "\n",
      "\n",
      "DE LOURDES      100\n",
      "SOLON BORGES     45\n",
      "FONTE GRANDE     45\n",
      "DO QUADRO        42\n",
      "MONTE BELO       40\n",
      "Name: DE LOURDES, dtype: object \n",
      "\n",
      "\n",
      "ARIOVALDO FAVALESSA    100\n",
      "NOVA PALESTINA          55\n",
      "ILHA DO FRADE           50\n",
      "BOA VISTA               43\n",
      "DO CABRAL               43\n",
      "Name: ARIOVALDO FAVALESSA, dtype: object \n",
      "\n",
      "\n",
      "ANTÔNIO HONÓRIO    100\n",
      "SANTOS REIS         54\n",
      "SANTO ANDRÉ         54\n",
      "SANTOS DUMONT       50\n",
      "SANTO ANTÔNIO       50\n",
      "Name: ANTÔNIO HONÓRIO, dtype: object \n",
      "\n",
      "\n",
      "FRADINHOS       100\n",
      "ANDORINHAS       63\n",
      "PRAIA DO SUÁ     48\n",
      "REDENÇÃO         47\n",
      "CRUZAMENTO       42\n",
      "Name: FRADINHOS, dtype: object \n",
      "\n",
      "\n",
      "ENSEADA DO SUÁ       100\n",
      "PRAIA DO SUÁ          69\n",
      "SEGURANÇA DO LAR      53\n",
      "MORADA DE CAMBURI     45\n",
      "PRAIA DO CANTO        43\n",
      "Name: ENSEADA DO SUÁ, dtype: object \n",
      "\n",
      "\n",
      "SANTA HELENA     100\n",
      "SANTA TEREZA      75\n",
      "SANTA CECÍLIA     72\n",
      "SANTA CLARA       70\n",
      "SANTA LUÍZA       70\n",
      "Name: SANTA HELENA, dtype: object \n",
      "\n",
      "\n",
      "HORTO            100\n",
      "AEROPORTO         57\n",
      "SÃO CRISTÓVÃO     44\n",
      "DO QUADRO         43\n",
      "CARATOÍRA         43\n",
      "Name: HORTO, dtype: object \n",
      "\n",
      "\n",
      "UNIVERSITÁRIO          100\n",
      "ESTRELINHA              43\n",
      "RESISTÊNCIA             42\n",
      "CENTRO                  42\n",
      "ILHA DE SANTA MARIA     38\n",
      "Name: UNIVERSITÁRIO, dtype: object \n",
      "\n",
      "\n",
      "SEGURANÇA DO LAR    100\n",
      "SANTA CLARA          59\n",
      "PRAIA DO CANTO       53\n",
      "ENSEADA DO SUÁ       53\n",
      "SANTA LÚCIA          52\n",
      "Name: SEGURANÇA DO LAR, dtype: object \n",
      "\n",
      "\n",
      "NAZARETH             100\n",
      "JESUS DE NAZARETH     64\n",
      "SANTA MARTHA          50\n",
      "INHANGUETÁ            44\n",
      "CRUZAMENTO            44\n",
      "Name: NAZARETH, dtype: object \n",
      "\n",
      "\n",
      "MORADA DE CAMBURI    100\n",
      "PONTAL DE CAMBURI     76\n",
      "JARDIM CAMBURI        65\n",
      "MATA DA PRAIA         53\n",
      "PRAIA DO CANTO        52\n",
      "Name: MORADA DE CAMBURI, dtype: object \n",
      "\n",
      "\n",
      "PONTAL DE CAMBURI      100\n",
      "MORADA DE CAMBURI       76\n",
      "JARDIM CAMBURI          65\n",
      "SANTA CLARA             50\n",
      "ILHA DE SANTA MARIA     50\n",
      "Name: PONTAL DE CAMBURI, dtype: object \n",
      "\n",
      "\n",
      "ILHA DO BOI          100\n",
      "ILHA DO FRADE         67\n",
      "ILHA DO PRÍNCIPE      67\n",
      "VILA RUBIM            57\n",
      "ILHA DAS CAIEIRAS     57\n",
      "Name: ILHA DO BOI, dtype: object \n",
      "\n",
      "\n",
      "ILHA DO FRADE                  100\n",
      "ILHA DO PRÍNCIPE                69\n",
      "ILHA DO BOI                     67\n",
      "ILHA DAS CAIEIRAS               60\n",
      "ILHAS OCEÂNICAS DE TRINDADE     55\n",
      "Name: ILHA DO FRADE, dtype: object \n",
      "\n",
      "\n",
      "AEROPORTO         100\n",
      "HORTO              57\n",
      "MARIA ORTIZ        50\n",
      "CARATOÍRA          44\n",
      "BARRO VERMELHO     43\n",
      "Name: AEROPORTO, dtype: object \n",
      "\n",
      "\n",
      "ILHAS OCEÂNICAS DE TRINDADE    100\n",
      "ILHA DO FRADE                   55\n",
      "ILHA DE SANTA MARIA             52\n",
      "ILHA DO PRÍNCIPE                47\n",
      "ILHA DAS CAIEIRAS               45\n",
      "Name: ILHAS OCEÂNICAS DE TRINDADE, dtype: object \n",
      "\n",
      "\n",
      "PARQUE INDUSTRIAL    100\n",
      "PARQUE MOSCOSO        52\n",
      "RESISTÊNCIA           50\n",
      "BOA VISTA             46\n",
      "CONQUISTA             46\n",
      "Name: PARQUE INDUSTRIAL, dtype: object \n",
      "\n"
     ]
    }
   ],
   "source": [
    "for x in ratios.columns:\n",
    "    y = ratios[x].sort_values(ascending=False).head(5)\n",
    "    print('\\n{} \\n'.format(y))"
   ]
  },
  {
   "cell_type": "markdown",
   "metadata": {},
   "source": [
    "* In the above few cells, checking for multiple neighbors that might be the same but containing a typo but luckily there is none."
   ]
  },
  {
   "cell_type": "code",
   "execution_count": 575,
   "metadata": {},
   "outputs": [
    {
     "data": {
      "text/plain": [
       "2016-05-06T07:09:54Z    24\n",
       "2016-05-06T07:09:53Z    23\n",
       "2016-04-25T17:18:27Z    22\n",
       "2016-04-25T17:17:46Z    22\n",
       "2016-04-25T17:17:23Z    19\n",
       "                        ..\n",
       "2016-05-20T11:30:24Z     1\n",
       "2016-05-11T10:26:11Z     1\n",
       "2016-04-26T12:11:49Z     1\n",
       "2016-04-29T10:09:17Z     1\n",
       "2016-05-31T15:50:51Z     1\n",
       "Name: ScheduledDay, Length: 103549, dtype: int64"
      ]
     },
     "execution_count": 575,
     "metadata": {},
     "output_type": "execute_result"
    }
   ],
   "source": [
    "df.ScheduledDay.value_counts()"
   ]
  },
  {
   "cell_type": "markdown",
   "metadata": {},
   "source": [
    "* We need to remove the (T) and (Z) from each line."
   ]
  },
  {
   "cell_type": "code",
   "execution_count": 576,
   "metadata": {},
   "outputs": [
    {
     "data": {
      "text/plain": [
       "2016-06-06T00:00:00Z    4692\n",
       "2016-05-16T00:00:00Z    4613\n",
       "2016-05-09T00:00:00Z    4520\n",
       "2016-05-30T00:00:00Z    4514\n",
       "2016-06-08T00:00:00Z    4479\n",
       "2016-05-11T00:00:00Z    4474\n",
       "2016-06-01T00:00:00Z    4464\n",
       "2016-06-07T00:00:00Z    4416\n",
       "2016-05-12T00:00:00Z    4394\n",
       "2016-05-02T00:00:00Z    4376\n",
       "2016-05-18T00:00:00Z    4373\n",
       "2016-05-17T00:00:00Z    4372\n",
       "2016-06-02T00:00:00Z    4310\n",
       "2016-05-10T00:00:00Z    4308\n",
       "2016-05-31T00:00:00Z    4279\n",
       "2016-05-05T00:00:00Z    4273\n",
       "2016-05-19T00:00:00Z    4270\n",
       "2016-05-03T00:00:00Z    4256\n",
       "2016-05-04T00:00:00Z    4168\n",
       "2016-06-03T00:00:00Z    4090\n",
       "2016-05-24T00:00:00Z    4009\n",
       "2016-05-13T00:00:00Z    3987\n",
       "2016-05-25T00:00:00Z    3909\n",
       "2016-05-06T00:00:00Z    3879\n",
       "2016-05-20T00:00:00Z    3828\n",
       "2016-04-29T00:00:00Z    3235\n",
       "2016-05-14T00:00:00Z      39\n",
       "Name: AppointmentDay, dtype: int64"
      ]
     },
     "execution_count": 576,
     "metadata": {},
     "output_type": "execute_result"
    }
   ],
   "source": [
    "df.AppointmentDay.value_counts()"
   ]
  },
  {
   "cell_type": "markdown",
   "metadata": {},
   "source": [
    "* Time is always (00:00:00) so we can safely remove it."
   ]
  },
  {
   "cell_type": "markdown",
   "metadata": {},
   "source": [
    "----------------------------------"
   ]
  },
  {
   "cell_type": "markdown",
   "metadata": {},
   "source": [
    "## Data Cleaning  <a id='cleaning'></a>"
   ]
  },
  {
   "cell_type": "code",
   "execution_count": 577,
   "metadata": {},
   "outputs": [],
   "source": [
    "df_c = df.copy()"
   ]
  },
  {
   "cell_type": "markdown",
   "metadata": {},
   "source": [
    "* Creating a copy of the DataFrame."
   ]
  },
  {
   "cell_type": "markdown",
   "metadata": {},
   "source": [
    "##### Removing the all Cap."
   ]
  },
  {
   "cell_type": "code",
   "execution_count": 665,
   "metadata": {},
   "outputs": [],
   "source": [
    "df_c.Neighbourhood = df_c.Neighbourhood.apply(lambda x:x.title())"
   ]
  },
  {
   "cell_type": "markdown",
   "metadata": {},
   "source": [
    "##### Renaming Columns"
   ]
  },
  {
   "cell_type": "code",
   "execution_count": 579,
   "metadata": {},
   "outputs": [],
   "source": [
    "df_c.rename(columns={\"Scholarship\": \"BolsaFamilia\", \"AppointmentID\": \"AppointmentId\", \"SMS_received\": \"ReceivedText\", 'No-show':'ShowedUp'},inplace=True)"
   ]
  },
  {
   "cell_type": "markdown",
   "metadata": {},
   "source": [
    "##### Fixing 'PatientId' values"
   ]
  },
  {
   "cell_type": "code",
   "execution_count": 580,
   "metadata": {},
   "outputs": [],
   "source": [
    "df_c.PatientId = df_c.PatientId.apply(lambda x:int(x))"
   ]
  },
  {
   "cell_type": "markdown",
   "metadata": {},
   "source": [
    "##### Changing Dtypes"
   ]
  },
  {
   "cell_type": "code",
   "execution_count": 581,
   "metadata": {},
   "outputs": [],
   "source": [
    "df_c.PatientId = df_c.PatientId.astype('str')\n",
    "df_c.AppointmentId = df_c.AppointmentId.astype('str')"
   ]
  },
  {
   "cell_type": "code",
   "execution_count": 582,
   "metadata": {},
   "outputs": [],
   "source": [
    "df_c.Gender = df_c.Gender.astype('category')\n",
    "df_c.Neighbourhood = df_c.Neighbourhood.astype('category')"
   ]
  },
  {
   "cell_type": "code",
   "execution_count": 583,
   "metadata": {},
   "outputs": [],
   "source": [
    "df_c.AppointmentDay = df_c.AppointmentDay.apply(lambda x: x.split('T')[0])"
   ]
  },
  {
   "cell_type": "code",
   "execution_count": 584,
   "metadata": {},
   "outputs": [],
   "source": [
    "df_c.ScheduledDay = df_c.ScheduledDay.apply(lambda x:x.replace('T',' '))\n",
    "df_c.ScheduledDay = df_c.ScheduledDay.apply(lambda x:x.replace('Z',''))"
   ]
  },
  {
   "cell_type": "code",
   "execution_count": 585,
   "metadata": {},
   "outputs": [],
   "source": [
    "df_c.ScheduledDay = pd.to_datetime(df_c['ScheduledDay'])"
   ]
  },
  {
   "cell_type": "code",
   "execution_count": 586,
   "metadata": {},
   "outputs": [],
   "source": [
    "df_c.AppointmentDay = pd.to_datetime(df_c['AppointmentDay'])"
   ]
  },
  {
   "cell_type": "code",
   "execution_count": 587,
   "metadata": {},
   "outputs": [],
   "source": [
    "def change_to_bool(x):\n",
    "    if ((x == 'No') or (x == 0)):\n",
    "        return 0\n",
    "    else:\n",
    "        return 1"
   ]
  },
  {
   "cell_type": "code",
   "execution_count": 588,
   "metadata": {},
   "outputs": [],
   "source": [
    "def exchange01(x):\n",
    "    if x=='No':\n",
    "        return 1\n",
    "    if x=='Yes':\n",
    "        return 0"
   ]
  },
  {
   "cell_type": "code",
   "execution_count": 589,
   "metadata": {},
   "outputs": [],
   "source": [
    "df_c.ShowedUp = df_c.ShowedUp.apply(exchange01)"
   ]
  },
  {
   "cell_type": "code",
   "execution_count": 590,
   "metadata": {},
   "outputs": [],
   "source": [
    "df_c.Handcap = df_c.Handcap.apply(change_to_bool)"
   ]
  },
  {
   "cell_type": "code",
   "execution_count": 591,
   "metadata": {},
   "outputs": [
    {
     "name": "stdout",
     "output_type": "stream",
     "text": [
      "<class 'pandas.core.frame.DataFrame'>\n",
      "RangeIndex: 110527 entries, 0 to 110526\n",
      "Data columns (total 14 columns):\n",
      " #   Column          Non-Null Count   Dtype         \n",
      "---  ------          --------------   -----         \n",
      " 0   PatientId       110527 non-null  object        \n",
      " 1   AppointmentId   110527 non-null  object        \n",
      " 2   Gender          110527 non-null  category      \n",
      " 3   ScheduledDay    110527 non-null  datetime64[ns]\n",
      " 4   AppointmentDay  110527 non-null  datetime64[ns]\n",
      " 5   Age             110527 non-null  int64         \n",
      " 6   Neighbourhood   110527 non-null  category      \n",
      " 7   BolsaFamilia    110527 non-null  int64         \n",
      " 8   Hipertension    110527 non-null  int64         \n",
      " 9   Diabetes        110527 non-null  int64         \n",
      " 10  Alcoholism      110527 non-null  int64         \n",
      " 11  Handcap         110527 non-null  int64         \n",
      " 12  ReceivedText    110527 non-null  int64         \n",
      " 13  ShowedUp        110527 non-null  int64         \n",
      "dtypes: category(2), datetime64[ns](2), int64(8), object(2)\n",
      "memory usage: 10.3+ MB\n"
     ]
    }
   ],
   "source": [
    "df_c.info()"
   ]
  },
  {
   "cell_type": "markdown",
   "metadata": {},
   "source": [
    "##### Fix Age outlier"
   ]
  },
  {
   "cell_type": "code",
   "execution_count": 666,
   "metadata": {},
   "outputs": [
    {
     "data": {
      "text/html": [
       "<div>\n",
       "<style scoped>\n",
       "    .dataframe tbody tr th:only-of-type {\n",
       "        vertical-align: middle;\n",
       "    }\n",
       "\n",
       "    .dataframe tbody tr th {\n",
       "        vertical-align: top;\n",
       "    }\n",
       "\n",
       "    .dataframe thead th {\n",
       "        text-align: right;\n",
       "    }\n",
       "</style>\n",
       "<table border=\"1\" class=\"dataframe\">\n",
       "  <thead>\n",
       "    <tr style=\"text-align: right;\">\n",
       "      <th></th>\n",
       "      <th>PatientId</th>\n",
       "      <th>AppointmentId</th>\n",
       "      <th>Gender</th>\n",
       "      <th>ScheduledDay</th>\n",
       "      <th>AppointmentDay</th>\n",
       "      <th>Age</th>\n",
       "      <th>Neighbourhood</th>\n",
       "      <th>BolsaFamilia</th>\n",
       "      <th>Hipertension</th>\n",
       "      <th>Diabetes</th>\n",
       "      <th>Alcoholism</th>\n",
       "      <th>Handcap</th>\n",
       "      <th>ReceivedText</th>\n",
       "      <th>ShowedUp</th>\n",
       "      <th>ScheduledDayOfWeek</th>\n",
       "      <th>AppointmentDayOfWeek</th>\n",
       "      <th>ScheduledMonth</th>\n",
       "      <th>AppointmentMonth</th>\n",
       "      <th>ScheduledDayInMonth</th>\n",
       "      <th>AppointmentDayInMonth</th>\n",
       "      <th>DaysDifference</th>\n",
       "      <th>ScheduledWeekInMonth</th>\n",
       "      <th>AppointmentWeekInMonth</th>\n",
       "      <th>ScheduledHour</th>\n",
       "      <th>NumberOfConditions</th>\n",
       "      <th>Suffering</th>\n",
       "    </tr>\n",
       "  </thead>\n",
       "  <tbody>\n",
       "  </tbody>\n",
       "</table>\n",
       "</div>"
      ],
      "text/plain": [
       "Empty DataFrame\n",
       "Columns: [PatientId, AppointmentId, Gender, ScheduledDay, AppointmentDay, Age, Neighbourhood, BolsaFamilia, Hipertension, Diabetes, Alcoholism, Handcap, ReceivedText, ShowedUp, ScheduledDayOfWeek, AppointmentDayOfWeek, ScheduledMonth, AppointmentMonth, ScheduledDayInMonth, AppointmentDayInMonth, DaysDifference, ScheduledWeekInMonth, AppointmentWeekInMonth, ScheduledHour, NumberOfConditions, Suffering]\n",
       "Index: []"
      ]
     },
     "execution_count": 666,
     "metadata": {},
     "output_type": "execute_result"
    }
   ],
   "source": [
    "df_c[df_c.Age == -1]"
   ]
  },
  {
   "cell_type": "code",
   "execution_count": 593,
   "metadata": {},
   "outputs": [],
   "source": [
    "all_0 = df_c[(df_c.BolsaFamilia + df_c.Hipertension + df_c.Diabetes + df_c.Alcoholism + df_c.Handcap) == 0]"
   ]
  },
  {
   "cell_type": "code",
   "execution_count": 594,
   "metadata": {},
   "outputs": [],
   "source": [
    "df_c.Age.iloc[99832] = int(all_0.Age.mode())"
   ]
  },
  {
   "cell_type": "markdown",
   "metadata": {},
   "source": [
    "******************"
   ]
  },
  {
   "cell_type": "markdown",
   "metadata": {},
   "source": [
    "## Data Wrangling and Feature Engineering <a id='wrangle'></a>"
   ]
  },
  {
   "cell_type": "markdown",
   "metadata": {},
   "source": [
    "In order to find more insights we need to create more columns from the data we have and this includes:\n",
    "* The day of the week for both shceduled and appointment. \n",
    "* The month for both shceduled and appointment. \n",
    "* Which week in the month for both shceduled and appointment. \n",
    "* Which day in the month for both shceduled and appointment. \n",
    "* The hour of schedule. \n",
    "* Is the patient suffering from [Hipertension Diabetes Alcoholism Handcap] or not. \n",
    "* How many conditions does the patient suffer from.\n",
    "* Difference between schedule day and appointment day."
   ]
  },
  {
   "cell_type": "code",
   "execution_count": 595,
   "metadata": {},
   "outputs": [],
   "source": [
    "df_c['ScheduledDayOfWeek'] = df_c.ScheduledDay.dt.day_name().astype('category')\n",
    "df_c['AppointmentDayOfWeek'] = df_c.AppointmentDay.dt.day_name().astype('category')"
   ]
  },
  {
   "cell_type": "code",
   "execution_count": 596,
   "metadata": {},
   "outputs": [],
   "source": [
    "df_c['ScheduledMonth'] = df_c.ScheduledDay.dt.month_name().astype('category')\n",
    "df_c['AppointmentMonth'] = df_c.AppointmentDay.dt.month_name().astype('category')"
   ]
  },
  {
   "cell_type": "code",
   "execution_count": 597,
   "metadata": {},
   "outputs": [],
   "source": [
    "df_c['ScheduledDayInMonth'] = df_c.ScheduledDay.dt.day\n",
    "df_c['AppointmentDayInMonth'] = df_c.AppointmentDay.dt.day"
   ]
  },
  {
   "cell_type": "code",
   "execution_count": 598,
   "metadata": {},
   "outputs": [],
   "source": [
    "df_c['DaysDifference'] = df_c.AppointmentDay.dt.dayofyear - df_c.ScheduledDay.dt.dayofyear"
   ]
  },
  {
   "cell_type": "code",
   "execution_count": 599,
   "metadata": {},
   "outputs": [],
   "source": [
    "def WeekOfMonth(x):\n",
    "    if ((x > 0) and (x <= 7)):\n",
    "        return(1)\n",
    "    \n",
    "    if ((x > 7) and (x <= 14)):\n",
    "        return(2)\n",
    "    \n",
    "    if ((x > 14) and (x <= 21)):\n",
    "        return(3)\n",
    "    \n",
    "    if ((x > 21) and (x <= 28)):\n",
    "        return(4)\n",
    "    \n",
    "    else:\n",
    "        return(5)"
   ]
  },
  {
   "cell_type": "code",
   "execution_count": 600,
   "metadata": {},
   "outputs": [],
   "source": [
    "df_c['ScheduledWeekInMonth'] = df_c.ScheduledDayInMonth.apply(WeekOfMonth)\n",
    "df_c['AppointmentWeekInMonth'] = df_c.AppointmentDayInMonth.apply(WeekOfMonth)"
   ]
  },
  {
   "cell_type": "code",
   "execution_count": 601,
   "metadata": {},
   "outputs": [],
   "source": [
    "df_c['ScheduledHour'] = df_c.ScheduledDay.dt.hour"
   ]
  },
  {
   "cell_type": "code",
   "execution_count": 602,
   "metadata": {},
   "outputs": [
    {
     "data": {
      "text/html": [
       "<div>\n",
       "<style scoped>\n",
       "    .dataframe tbody tr th:only-of-type {\n",
       "        vertical-align: middle;\n",
       "    }\n",
       "\n",
       "    .dataframe tbody tr th {\n",
       "        vertical-align: top;\n",
       "    }\n",
       "\n",
       "    .dataframe thead th {\n",
       "        text-align: right;\n",
       "    }\n",
       "</style>\n",
       "<table border=\"1\" class=\"dataframe\">\n",
       "  <thead>\n",
       "    <tr style=\"text-align: right;\">\n",
       "      <th></th>\n",
       "      <th>PatientId</th>\n",
       "      <th>AppointmentId</th>\n",
       "      <th>Gender</th>\n",
       "      <th>ScheduledDay</th>\n",
       "      <th>AppointmentDay</th>\n",
       "      <th>Age</th>\n",
       "      <th>Neighbourhood</th>\n",
       "      <th>BolsaFamilia</th>\n",
       "      <th>Hipertension</th>\n",
       "      <th>Diabetes</th>\n",
       "      <th>Alcoholism</th>\n",
       "      <th>Handcap</th>\n",
       "      <th>ReceivedText</th>\n",
       "      <th>ShowedUp</th>\n",
       "      <th>ScheduledDayOfWeek</th>\n",
       "      <th>AppointmentDayOfWeek</th>\n",
       "      <th>ScheduledMonth</th>\n",
       "      <th>AppointmentMonth</th>\n",
       "      <th>ScheduledDayInMonth</th>\n",
       "      <th>AppointmentDayInMonth</th>\n",
       "      <th>DaysDifference</th>\n",
       "      <th>ScheduledWeekInMonth</th>\n",
       "      <th>AppointmentWeekInMonth</th>\n",
       "      <th>ScheduledHour</th>\n",
       "      <th>NumberOfConditions</th>\n",
       "    </tr>\n",
       "  </thead>\n",
       "  <tbody>\n",
       "    <tr>\n",
       "      <th>0</th>\n",
       "      <td>29872499824296</td>\n",
       "      <td>5642903</td>\n",
       "      <td>F</td>\n",
       "      <td>2016-04-29 18:38:08</td>\n",
       "      <td>2016-04-29</td>\n",
       "      <td>62</td>\n",
       "      <td>Jardim Da Penha</td>\n",
       "      <td>0</td>\n",
       "      <td>1</td>\n",
       "      <td>0</td>\n",
       "      <td>0</td>\n",
       "      <td>0</td>\n",
       "      <td>0</td>\n",
       "      <td>1</td>\n",
       "      <td>Friday</td>\n",
       "      <td>Friday</td>\n",
       "      <td>April</td>\n",
       "      <td>April</td>\n",
       "      <td>29</td>\n",
       "      <td>29</td>\n",
       "      <td>0</td>\n",
       "      <td>5</td>\n",
       "      <td>5</td>\n",
       "      <td>18</td>\n",
       "      <td>1</td>\n",
       "    </tr>\n",
       "    <tr>\n",
       "      <th>1</th>\n",
       "      <td>558997776694438</td>\n",
       "      <td>5642503</td>\n",
       "      <td>M</td>\n",
       "      <td>2016-04-29 16:08:27</td>\n",
       "      <td>2016-04-29</td>\n",
       "      <td>56</td>\n",
       "      <td>Jardim Da Penha</td>\n",
       "      <td>0</td>\n",
       "      <td>0</td>\n",
       "      <td>0</td>\n",
       "      <td>0</td>\n",
       "      <td>0</td>\n",
       "      <td>0</td>\n",
       "      <td>1</td>\n",
       "      <td>Friday</td>\n",
       "      <td>Friday</td>\n",
       "      <td>April</td>\n",
       "      <td>April</td>\n",
       "      <td>29</td>\n",
       "      <td>29</td>\n",
       "      <td>0</td>\n",
       "      <td>5</td>\n",
       "      <td>5</td>\n",
       "      <td>16</td>\n",
       "      <td>0</td>\n",
       "    </tr>\n",
       "    <tr>\n",
       "      <th>2</th>\n",
       "      <td>4262962299951</td>\n",
       "      <td>5642549</td>\n",
       "      <td>F</td>\n",
       "      <td>2016-04-29 16:19:04</td>\n",
       "      <td>2016-04-29</td>\n",
       "      <td>62</td>\n",
       "      <td>Mata Da Praia</td>\n",
       "      <td>0</td>\n",
       "      <td>0</td>\n",
       "      <td>0</td>\n",
       "      <td>0</td>\n",
       "      <td>0</td>\n",
       "      <td>0</td>\n",
       "      <td>1</td>\n",
       "      <td>Friday</td>\n",
       "      <td>Friday</td>\n",
       "      <td>April</td>\n",
       "      <td>April</td>\n",
       "      <td>29</td>\n",
       "      <td>29</td>\n",
       "      <td>0</td>\n",
       "      <td>5</td>\n",
       "      <td>5</td>\n",
       "      <td>16</td>\n",
       "      <td>0</td>\n",
       "    </tr>\n",
       "    <tr>\n",
       "      <th>3</th>\n",
       "      <td>867951213174</td>\n",
       "      <td>5642828</td>\n",
       "      <td>F</td>\n",
       "      <td>2016-04-29 17:29:31</td>\n",
       "      <td>2016-04-29</td>\n",
       "      <td>8</td>\n",
       "      <td>Pontal De Camburi</td>\n",
       "      <td>0</td>\n",
       "      <td>0</td>\n",
       "      <td>0</td>\n",
       "      <td>0</td>\n",
       "      <td>0</td>\n",
       "      <td>0</td>\n",
       "      <td>1</td>\n",
       "      <td>Friday</td>\n",
       "      <td>Friday</td>\n",
       "      <td>April</td>\n",
       "      <td>April</td>\n",
       "      <td>29</td>\n",
       "      <td>29</td>\n",
       "      <td>0</td>\n",
       "      <td>5</td>\n",
       "      <td>5</td>\n",
       "      <td>17</td>\n",
       "      <td>0</td>\n",
       "    </tr>\n",
       "    <tr>\n",
       "      <th>4</th>\n",
       "      <td>8841186448183</td>\n",
       "      <td>5642494</td>\n",
       "      <td>F</td>\n",
       "      <td>2016-04-29 16:07:23</td>\n",
       "      <td>2016-04-29</td>\n",
       "      <td>56</td>\n",
       "      <td>Jardim Da Penha</td>\n",
       "      <td>0</td>\n",
       "      <td>1</td>\n",
       "      <td>1</td>\n",
       "      <td>0</td>\n",
       "      <td>0</td>\n",
       "      <td>0</td>\n",
       "      <td>1</td>\n",
       "      <td>Friday</td>\n",
       "      <td>Friday</td>\n",
       "      <td>April</td>\n",
       "      <td>April</td>\n",
       "      <td>29</td>\n",
       "      <td>29</td>\n",
       "      <td>0</td>\n",
       "      <td>5</td>\n",
       "      <td>5</td>\n",
       "      <td>16</td>\n",
       "      <td>2</td>\n",
       "    </tr>\n",
       "    <tr>\n",
       "      <th>...</th>\n",
       "      <td>...</td>\n",
       "      <td>...</td>\n",
       "      <td>...</td>\n",
       "      <td>...</td>\n",
       "      <td>...</td>\n",
       "      <td>...</td>\n",
       "      <td>...</td>\n",
       "      <td>...</td>\n",
       "      <td>...</td>\n",
       "      <td>...</td>\n",
       "      <td>...</td>\n",
       "      <td>...</td>\n",
       "      <td>...</td>\n",
       "      <td>...</td>\n",
       "      <td>...</td>\n",
       "      <td>...</td>\n",
       "      <td>...</td>\n",
       "      <td>...</td>\n",
       "      <td>...</td>\n",
       "      <td>...</td>\n",
       "      <td>...</td>\n",
       "      <td>...</td>\n",
       "      <td>...</td>\n",
       "      <td>...</td>\n",
       "      <td>...</td>\n",
       "    </tr>\n",
       "    <tr>\n",
       "      <th>110522</th>\n",
       "      <td>2572134369293</td>\n",
       "      <td>5651768</td>\n",
       "      <td>F</td>\n",
       "      <td>2016-05-03 09:15:35</td>\n",
       "      <td>2016-06-07</td>\n",
       "      <td>56</td>\n",
       "      <td>Maria Ortiz</td>\n",
       "      <td>0</td>\n",
       "      <td>0</td>\n",
       "      <td>0</td>\n",
       "      <td>0</td>\n",
       "      <td>0</td>\n",
       "      <td>1</td>\n",
       "      <td>1</td>\n",
       "      <td>Tuesday</td>\n",
       "      <td>Tuesday</td>\n",
       "      <td>May</td>\n",
       "      <td>June</td>\n",
       "      <td>3</td>\n",
       "      <td>7</td>\n",
       "      <td>35</td>\n",
       "      <td>1</td>\n",
       "      <td>1</td>\n",
       "      <td>9</td>\n",
       "      <td>0</td>\n",
       "    </tr>\n",
       "    <tr>\n",
       "      <th>110523</th>\n",
       "      <td>3596266328735</td>\n",
       "      <td>5650093</td>\n",
       "      <td>F</td>\n",
       "      <td>2016-05-03 07:27:33</td>\n",
       "      <td>2016-06-07</td>\n",
       "      <td>51</td>\n",
       "      <td>Maria Ortiz</td>\n",
       "      <td>0</td>\n",
       "      <td>0</td>\n",
       "      <td>0</td>\n",
       "      <td>0</td>\n",
       "      <td>0</td>\n",
       "      <td>1</td>\n",
       "      <td>1</td>\n",
       "      <td>Tuesday</td>\n",
       "      <td>Tuesday</td>\n",
       "      <td>May</td>\n",
       "      <td>June</td>\n",
       "      <td>3</td>\n",
       "      <td>7</td>\n",
       "      <td>35</td>\n",
       "      <td>1</td>\n",
       "      <td>1</td>\n",
       "      <td>7</td>\n",
       "      <td>0</td>\n",
       "    </tr>\n",
       "    <tr>\n",
       "      <th>110524</th>\n",
       "      <td>15576631729893</td>\n",
       "      <td>5630692</td>\n",
       "      <td>F</td>\n",
       "      <td>2016-04-27 16:03:52</td>\n",
       "      <td>2016-06-07</td>\n",
       "      <td>21</td>\n",
       "      <td>Maria Ortiz</td>\n",
       "      <td>0</td>\n",
       "      <td>0</td>\n",
       "      <td>0</td>\n",
       "      <td>0</td>\n",
       "      <td>0</td>\n",
       "      <td>1</td>\n",
       "      <td>1</td>\n",
       "      <td>Wednesday</td>\n",
       "      <td>Tuesday</td>\n",
       "      <td>April</td>\n",
       "      <td>June</td>\n",
       "      <td>27</td>\n",
       "      <td>7</td>\n",
       "      <td>41</td>\n",
       "      <td>4</td>\n",
       "      <td>1</td>\n",
       "      <td>16</td>\n",
       "      <td>0</td>\n",
       "    </tr>\n",
       "    <tr>\n",
       "      <th>110525</th>\n",
       "      <td>92134931435557</td>\n",
       "      <td>5630323</td>\n",
       "      <td>F</td>\n",
       "      <td>2016-04-27 15:09:23</td>\n",
       "      <td>2016-06-07</td>\n",
       "      <td>38</td>\n",
       "      <td>Maria Ortiz</td>\n",
       "      <td>0</td>\n",
       "      <td>0</td>\n",
       "      <td>0</td>\n",
       "      <td>0</td>\n",
       "      <td>0</td>\n",
       "      <td>1</td>\n",
       "      <td>1</td>\n",
       "      <td>Wednesday</td>\n",
       "      <td>Tuesday</td>\n",
       "      <td>April</td>\n",
       "      <td>June</td>\n",
       "      <td>27</td>\n",
       "      <td>7</td>\n",
       "      <td>41</td>\n",
       "      <td>4</td>\n",
       "      <td>1</td>\n",
       "      <td>15</td>\n",
       "      <td>0</td>\n",
       "    </tr>\n",
       "    <tr>\n",
       "      <th>110526</th>\n",
       "      <td>377511518121127</td>\n",
       "      <td>5629448</td>\n",
       "      <td>F</td>\n",
       "      <td>2016-04-27 13:30:56</td>\n",
       "      <td>2016-06-07</td>\n",
       "      <td>54</td>\n",
       "      <td>Maria Ortiz</td>\n",
       "      <td>0</td>\n",
       "      <td>0</td>\n",
       "      <td>0</td>\n",
       "      <td>0</td>\n",
       "      <td>0</td>\n",
       "      <td>1</td>\n",
       "      <td>1</td>\n",
       "      <td>Wednesday</td>\n",
       "      <td>Tuesday</td>\n",
       "      <td>April</td>\n",
       "      <td>June</td>\n",
       "      <td>27</td>\n",
       "      <td>7</td>\n",
       "      <td>41</td>\n",
       "      <td>4</td>\n",
       "      <td>1</td>\n",
       "      <td>13</td>\n",
       "      <td>0</td>\n",
       "    </tr>\n",
       "  </tbody>\n",
       "</table>\n",
       "<p>110527 rows × 25 columns</p>\n",
       "</div>"
      ],
      "text/plain": [
       "              PatientId AppointmentId Gender        ScheduledDay  \\\n",
       "0        29872499824296       5642903      F 2016-04-29 18:38:08   \n",
       "1       558997776694438       5642503      M 2016-04-29 16:08:27   \n",
       "2         4262962299951       5642549      F 2016-04-29 16:19:04   \n",
       "3          867951213174       5642828      F 2016-04-29 17:29:31   \n",
       "4         8841186448183       5642494      F 2016-04-29 16:07:23   \n",
       "...                 ...           ...    ...                 ...   \n",
       "110522    2572134369293       5651768      F 2016-05-03 09:15:35   \n",
       "110523    3596266328735       5650093      F 2016-05-03 07:27:33   \n",
       "110524   15576631729893       5630692      F 2016-04-27 16:03:52   \n",
       "110525   92134931435557       5630323      F 2016-04-27 15:09:23   \n",
       "110526  377511518121127       5629448      F 2016-04-27 13:30:56   \n",
       "\n",
       "       AppointmentDay  Age      Neighbourhood  BolsaFamilia  Hipertension  \\\n",
       "0          2016-04-29   62    Jardim Da Penha             0             1   \n",
       "1          2016-04-29   56    Jardim Da Penha             0             0   \n",
       "2          2016-04-29   62      Mata Da Praia             0             0   \n",
       "3          2016-04-29    8  Pontal De Camburi             0             0   \n",
       "4          2016-04-29   56    Jardim Da Penha             0             1   \n",
       "...               ...  ...                ...           ...           ...   \n",
       "110522     2016-06-07   56        Maria Ortiz             0             0   \n",
       "110523     2016-06-07   51        Maria Ortiz             0             0   \n",
       "110524     2016-06-07   21        Maria Ortiz             0             0   \n",
       "110525     2016-06-07   38        Maria Ortiz             0             0   \n",
       "110526     2016-06-07   54        Maria Ortiz             0             0   \n",
       "\n",
       "        Diabetes  Alcoholism  Handcap  ReceivedText  ShowedUp  \\\n",
       "0              0           0        0             0         1   \n",
       "1              0           0        0             0         1   \n",
       "2              0           0        0             0         1   \n",
       "3              0           0        0             0         1   \n",
       "4              1           0        0             0         1   \n",
       "...          ...         ...      ...           ...       ...   \n",
       "110522         0           0        0             1         1   \n",
       "110523         0           0        0             1         1   \n",
       "110524         0           0        0             1         1   \n",
       "110525         0           0        0             1         1   \n",
       "110526         0           0        0             1         1   \n",
       "\n",
       "       ScheduledDayOfWeek AppointmentDayOfWeek ScheduledMonth  \\\n",
       "0                  Friday               Friday          April   \n",
       "1                  Friday               Friday          April   \n",
       "2                  Friday               Friday          April   \n",
       "3                  Friday               Friday          April   \n",
       "4                  Friday               Friday          April   \n",
       "...                   ...                  ...            ...   \n",
       "110522            Tuesday              Tuesday            May   \n",
       "110523            Tuesday              Tuesday            May   \n",
       "110524          Wednesday              Tuesday          April   \n",
       "110525          Wednesday              Tuesday          April   \n",
       "110526          Wednesday              Tuesday          April   \n",
       "\n",
       "       AppointmentMonth  ScheduledDayInMonth  AppointmentDayInMonth  \\\n",
       "0                 April                   29                     29   \n",
       "1                 April                   29                     29   \n",
       "2                 April                   29                     29   \n",
       "3                 April                   29                     29   \n",
       "4                 April                   29                     29   \n",
       "...                 ...                  ...                    ...   \n",
       "110522             June                    3                      7   \n",
       "110523             June                    3                      7   \n",
       "110524             June                   27                      7   \n",
       "110525             June                   27                      7   \n",
       "110526             June                   27                      7   \n",
       "\n",
       "        DaysDifference  ScheduledWeekInMonth  AppointmentWeekInMonth  \\\n",
       "0                    0                     5                       5   \n",
       "1                    0                     5                       5   \n",
       "2                    0                     5                       5   \n",
       "3                    0                     5                       5   \n",
       "4                    0                     5                       5   \n",
       "...                ...                   ...                     ...   \n",
       "110522              35                     1                       1   \n",
       "110523              35                     1                       1   \n",
       "110524              41                     4                       1   \n",
       "110525              41                     4                       1   \n",
       "110526              41                     4                       1   \n",
       "\n",
       "        ScheduledHour  NumberOfConditions  \n",
       "0                  18                   1  \n",
       "1                  16                   0  \n",
       "2                  16                   0  \n",
       "3                  17                   0  \n",
       "4                  16                   2  \n",
       "...               ...                 ...  \n",
       "110522              9                   0  \n",
       "110523              7                   0  \n",
       "110524             16                   0  \n",
       "110525             15                   0  \n",
       "110526             13                   0  \n",
       "\n",
       "[110527 rows x 25 columns]"
      ]
     },
     "execution_count": 602,
     "metadata": {},
     "output_type": "execute_result"
    }
   ],
   "source": [
    "df_c['NumberOfConditions'] = df_c[['Hipertension', 'Diabetes', 'Alcoholism', 'Handcap']].sum(1)\n",
    "df_c"
   ]
  },
  {
   "cell_type": "code",
   "execution_count": 603,
   "metadata": {},
   "outputs": [],
   "source": [
    "df_c['Suffering'] = df_c.NumberOfConditions.apply(change_to_bool)"
   ]
  },
  {
   "cell_type": "code",
   "execution_count": 604,
   "metadata": {
    "scrolled": true
   },
   "outputs": [
    {
     "data": {
      "text/html": [
       "<div>\n",
       "<style scoped>\n",
       "    .dataframe tbody tr th:only-of-type {\n",
       "        vertical-align: middle;\n",
       "    }\n",
       "\n",
       "    .dataframe tbody tr th {\n",
       "        vertical-align: top;\n",
       "    }\n",
       "\n",
       "    .dataframe thead th {\n",
       "        text-align: right;\n",
       "    }\n",
       "</style>\n",
       "<table border=\"1\" class=\"dataframe\">\n",
       "  <thead>\n",
       "    <tr style=\"text-align: right;\">\n",
       "      <th></th>\n",
       "      <th>PatientId</th>\n",
       "      <th>AppointmentId</th>\n",
       "      <th>Gender</th>\n",
       "      <th>ScheduledDay</th>\n",
       "      <th>AppointmentDay</th>\n",
       "      <th>Age</th>\n",
       "      <th>Neighbourhood</th>\n",
       "      <th>BolsaFamilia</th>\n",
       "      <th>Hipertension</th>\n",
       "      <th>Diabetes</th>\n",
       "      <th>Alcoholism</th>\n",
       "      <th>Handcap</th>\n",
       "      <th>ReceivedText</th>\n",
       "      <th>ShowedUp</th>\n",
       "      <th>ScheduledDayOfWeek</th>\n",
       "      <th>AppointmentDayOfWeek</th>\n",
       "      <th>ScheduledMonth</th>\n",
       "      <th>AppointmentMonth</th>\n",
       "      <th>ScheduledDayInMonth</th>\n",
       "      <th>AppointmentDayInMonth</th>\n",
       "      <th>DaysDifference</th>\n",
       "      <th>ScheduledWeekInMonth</th>\n",
       "      <th>AppointmentWeekInMonth</th>\n",
       "      <th>ScheduledHour</th>\n",
       "      <th>NumberOfConditions</th>\n",
       "      <th>Suffering</th>\n",
       "    </tr>\n",
       "  </thead>\n",
       "  <tbody>\n",
       "    <tr>\n",
       "      <th>10025</th>\n",
       "      <td>83271796136194</td>\n",
       "      <td>5659517</td>\n",
       "      <td>F</td>\n",
       "      <td>2016-05-04 14:07:42</td>\n",
       "      <td>2016-05-04</td>\n",
       "      <td>17</td>\n",
       "      <td>Romão</td>\n",
       "      <td>0</td>\n",
       "      <td>0</td>\n",
       "      <td>0</td>\n",
       "      <td>0</td>\n",
       "      <td>0</td>\n",
       "      <td>0</td>\n",
       "      <td>1</td>\n",
       "      <td>Wednesday</td>\n",
       "      <td>Wednesday</td>\n",
       "      <td>May</td>\n",
       "      <td>May</td>\n",
       "      <td>4</td>\n",
       "      <td>4</td>\n",
       "      <td>0</td>\n",
       "      <td>1</td>\n",
       "      <td>1</td>\n",
       "      <td>14</td>\n",
       "      <td>0</td>\n",
       "      <td>0</td>\n",
       "    </tr>\n",
       "    <tr>\n",
       "      <th>6675</th>\n",
       "      <td>716571673724283</td>\n",
       "      <td>5722968</td>\n",
       "      <td>F</td>\n",
       "      <td>2016-05-20 07:49:21</td>\n",
       "      <td>2016-05-24</td>\n",
       "      <td>40</td>\n",
       "      <td>Nova Palestina</td>\n",
       "      <td>1</td>\n",
       "      <td>1</td>\n",
       "      <td>0</td>\n",
       "      <td>0</td>\n",
       "      <td>0</td>\n",
       "      <td>1</td>\n",
       "      <td>0</td>\n",
       "      <td>Friday</td>\n",
       "      <td>Tuesday</td>\n",
       "      <td>May</td>\n",
       "      <td>May</td>\n",
       "      <td>20</td>\n",
       "      <td>24</td>\n",
       "      <td>4</td>\n",
       "      <td>3</td>\n",
       "      <td>4</td>\n",
       "      <td>7</td>\n",
       "      <td>1</td>\n",
       "      <td>1</td>\n",
       "    </tr>\n",
       "    <tr>\n",
       "      <th>1068</th>\n",
       "      <td>723761596624</td>\n",
       "      <td>5640531</td>\n",
       "      <td>F</td>\n",
       "      <td>2016-04-29 10:53:46</td>\n",
       "      <td>2016-04-29</td>\n",
       "      <td>16</td>\n",
       "      <td>Bela Vista</td>\n",
       "      <td>1</td>\n",
       "      <td>0</td>\n",
       "      <td>0</td>\n",
       "      <td>0</td>\n",
       "      <td>0</td>\n",
       "      <td>0</td>\n",
       "      <td>1</td>\n",
       "      <td>Friday</td>\n",
       "      <td>Friday</td>\n",
       "      <td>April</td>\n",
       "      <td>April</td>\n",
       "      <td>29</td>\n",
       "      <td>29</td>\n",
       "      <td>0</td>\n",
       "      <td>5</td>\n",
       "      <td>5</td>\n",
       "      <td>10</td>\n",
       "      <td>0</td>\n",
       "      <td>0</td>\n",
       "    </tr>\n",
       "    <tr>\n",
       "      <th>28626</th>\n",
       "      <td>386678155397</td>\n",
       "      <td>5695052</td>\n",
       "      <td>M</td>\n",
       "      <td>2016-05-13 09:24:36</td>\n",
       "      <td>2016-05-20</td>\n",
       "      <td>3</td>\n",
       "      <td>Forte São João</td>\n",
       "      <td>0</td>\n",
       "      <td>0</td>\n",
       "      <td>0</td>\n",
       "      <td>0</td>\n",
       "      <td>0</td>\n",
       "      <td>0</td>\n",
       "      <td>1</td>\n",
       "      <td>Friday</td>\n",
       "      <td>Friday</td>\n",
       "      <td>May</td>\n",
       "      <td>May</td>\n",
       "      <td>13</td>\n",
       "      <td>20</td>\n",
       "      <td>7</td>\n",
       "      <td>2</td>\n",
       "      <td>3</td>\n",
       "      <td>9</td>\n",
       "      <td>0</td>\n",
       "      <td>0</td>\n",
       "    </tr>\n",
       "    <tr>\n",
       "      <th>97631</th>\n",
       "      <td>962199499979687</td>\n",
       "      <td>5700002</td>\n",
       "      <td>F</td>\n",
       "      <td>2016-05-16 09:02:02</td>\n",
       "      <td>2016-06-08</td>\n",
       "      <td>43</td>\n",
       "      <td>Santo Antônio</td>\n",
       "      <td>0</td>\n",
       "      <td>0</td>\n",
       "      <td>0</td>\n",
       "      <td>0</td>\n",
       "      <td>0</td>\n",
       "      <td>1</td>\n",
       "      <td>1</td>\n",
       "      <td>Monday</td>\n",
       "      <td>Wednesday</td>\n",
       "      <td>May</td>\n",
       "      <td>June</td>\n",
       "      <td>16</td>\n",
       "      <td>8</td>\n",
       "      <td>23</td>\n",
       "      <td>3</td>\n",
       "      <td>2</td>\n",
       "      <td>9</td>\n",
       "      <td>0</td>\n",
       "      <td>0</td>\n",
       "    </tr>\n",
       "  </tbody>\n",
       "</table>\n",
       "</div>"
      ],
      "text/plain": [
       "             PatientId AppointmentId Gender        ScheduledDay  \\\n",
       "10025   83271796136194       5659517      F 2016-05-04 14:07:42   \n",
       "6675   716571673724283       5722968      F 2016-05-20 07:49:21   \n",
       "1068      723761596624       5640531      F 2016-04-29 10:53:46   \n",
       "28626     386678155397       5695052      M 2016-05-13 09:24:36   \n",
       "97631  962199499979687       5700002      F 2016-05-16 09:02:02   \n",
       "\n",
       "      AppointmentDay  Age   Neighbourhood  BolsaFamilia  Hipertension  \\\n",
       "10025     2016-05-04   17           Romão             0             0   \n",
       "6675      2016-05-24   40  Nova Palestina             1             1   \n",
       "1068      2016-04-29   16      Bela Vista             1             0   \n",
       "28626     2016-05-20    3  Forte São João             0             0   \n",
       "97631     2016-06-08   43   Santo Antônio             0             0   \n",
       "\n",
       "       Diabetes  Alcoholism  Handcap  ReceivedText  ShowedUp  \\\n",
       "10025         0           0        0             0         1   \n",
       "6675          0           0        0             1         0   \n",
       "1068          0           0        0             0         1   \n",
       "28626         0           0        0             0         1   \n",
       "97631         0           0        0             1         1   \n",
       "\n",
       "      ScheduledDayOfWeek AppointmentDayOfWeek ScheduledMonth AppointmentMonth  \\\n",
       "10025          Wednesday            Wednesday            May              May   \n",
       "6675              Friday              Tuesday            May              May   \n",
       "1068              Friday               Friday          April            April   \n",
       "28626             Friday               Friday            May              May   \n",
       "97631             Monday            Wednesday            May             June   \n",
       "\n",
       "       ScheduledDayInMonth  AppointmentDayInMonth  DaysDifference  \\\n",
       "10025                    4                      4               0   \n",
       "6675                    20                     24               4   \n",
       "1068                    29                     29               0   \n",
       "28626                   13                     20               7   \n",
       "97631                   16                      8              23   \n",
       "\n",
       "       ScheduledWeekInMonth  AppointmentWeekInMonth  ScheduledHour  \\\n",
       "10025                     1                       1             14   \n",
       "6675                      3                       4              7   \n",
       "1068                      5                       5             10   \n",
       "28626                     2                       3              9   \n",
       "97631                     3                       2              9   \n",
       "\n",
       "       NumberOfConditions  Suffering  \n",
       "10025                   0          0  \n",
       "6675                    1          1  \n",
       "1068                    0          0  \n",
       "28626                   0          0  \n",
       "97631                   0          0  "
      ]
     },
     "execution_count": 604,
     "metadata": {},
     "output_type": "execute_result"
    }
   ],
   "source": [
    "df_c.sample(5)"
   ]
  },
  {
   "cell_type": "code",
   "execution_count": 605,
   "metadata": {},
   "outputs": [
    {
     "name": "stdout",
     "output_type": "stream",
     "text": [
      "<class 'pandas.core.frame.DataFrame'>\n",
      "RangeIndex: 110527 entries, 0 to 110526\n",
      "Data columns (total 26 columns):\n",
      " #   Column                  Non-Null Count   Dtype         \n",
      "---  ------                  --------------   -----         \n",
      " 0   PatientId               110527 non-null  object        \n",
      " 1   AppointmentId           110527 non-null  object        \n",
      " 2   Gender                  110527 non-null  category      \n",
      " 3   ScheduledDay            110527 non-null  datetime64[ns]\n",
      " 4   AppointmentDay          110527 non-null  datetime64[ns]\n",
      " 5   Age                     110527 non-null  int64         \n",
      " 6   Neighbourhood           110527 non-null  category      \n",
      " 7   BolsaFamilia            110527 non-null  int64         \n",
      " 8   Hipertension            110527 non-null  int64         \n",
      " 9   Diabetes                110527 non-null  int64         \n",
      " 10  Alcoholism              110527 non-null  int64         \n",
      " 11  Handcap                 110527 non-null  int64         \n",
      " 12  ReceivedText            110527 non-null  int64         \n",
      " 13  ShowedUp                110527 non-null  int64         \n",
      " 14  ScheduledDayOfWeek      110527 non-null  category      \n",
      " 15  AppointmentDayOfWeek    110527 non-null  category      \n",
      " 16  ScheduledMonth          110527 non-null  category      \n",
      " 17  AppointmentMonth        110527 non-null  category      \n",
      " 18  ScheduledDayInMonth     110527 non-null  int64         \n",
      " 19  AppointmentDayInMonth   110527 non-null  int64         \n",
      " 20  DaysDifference          110527 non-null  int64         \n",
      " 21  ScheduledWeekInMonth    110527 non-null  int64         \n",
      " 22  AppointmentWeekInMonth  110527 non-null  int64         \n",
      " 23  ScheduledHour           110527 non-null  int64         \n",
      " 24  NumberOfConditions      110527 non-null  int64         \n",
      " 25  Suffering               110527 non-null  int64         \n",
      "dtypes: category(6), datetime64[ns](2), int64(16), object(2)\n",
      "memory usage: 17.5+ MB\n"
     ]
    }
   ],
   "source": [
    "df_c.info()"
   ]
  },
  {
   "cell_type": "markdown",
   "metadata": {},
   "source": [
    "-------------"
   ]
  },
  {
   "cell_type": "markdown",
   "metadata": {},
   "source": [
    "## Exploratory Data Analysis<a id='eda'></a>\n",
    "\n",
    "Now that we've trimmed and cleaned our data, we're ready to move on to exploration. Compute statistics and create visualizations with the goal of addressing the research questions that we posed in the Introduction section."
   ]
  },
  {
   "cell_type": "code",
   "execution_count": 606,
   "metadata": {},
   "outputs": [
    {
     "data": {
      "text/plain": [
       "Gender  ShowedUp\n",
       "F       0           14594\n",
       "        1           57246\n",
       "M       0            7725\n",
       "        1           30962\n",
       "Name: ShowedUp, dtype: int64"
      ]
     },
     "execution_count": 606,
     "metadata": {},
     "output_type": "execute_result"
    }
   ],
   "source": [
    "df_c.groupby(['Gender','ShowedUp'])['ShowedUp'].count()"
   ]
  },
  {
   "cell_type": "code",
   "execution_count": 607,
   "metadata": {},
   "outputs": [
    {
     "data": {
      "image/png": "[encoded data removed]",
      "text/plain": [
       "<Figure size 1296x576 with 2 Axes>"
      ]
     },
     "metadata": {
      "needs_background": "light"
     },
     "output_type": "display_data"
    }
   ],
   "source": [
    "f,ax=plt.subplots(1,2,figsize=(18,8))\n",
    "df_c['ShowedUp'].value_counts().plot.pie(explode=[0,0.1],autopct='%1.1f%%',ax=ax[0],shadow=True)\n",
    "ax[0].set_title('Showed Up')\n",
    "ax[0].set_ylabel('')\n",
    "sns.countplot('ShowedUp',data=df_c,ax=ax[1],order=[1,0])\n",
    "ax[1].set_title('Showed Up')\n",
    "plt.show()"
   ]
  },
  {
   "cell_type": "markdown",
   "metadata": {},
   "source": [
    "The data provided tells us that only one fifth of the patients miss their appointment and from here we will study what factors increase the occurance of no show."
   ]
  },
  {
   "cell_type": "code",
   "execution_count": 608,
   "metadata": {},
   "outputs": [
    {
     "data": {
      "image/png": "[encoded data removed]",
      "text/plain": [
       "<Figure size 1296x576 with 2 Axes>"
      ]
     },
     "metadata": {
      "needs_background": "light"
     },
     "output_type": "display_data"
    }
   ],
   "source": [
    "f,ax=plt.subplots(1,2,figsize=(18,8))\n",
    "df_c[['Gender','ShowedUp']].groupby(['Gender']).mean().plot.bar(ax=ax[0])\n",
    "ax[0].set_title('The percentage of showing up is almost the same in both genders')\n",
    "ax[0].set_ylabel('Showing up percentage')\n",
    "sns.countplot('Gender',hue='ShowedUp',data=df_c,ax=ax[1])\n",
    "ax[1].set_title('The patients are almost 70 percent male')\n",
    "vals = ax[0].get_yticks()\n",
    "ax[0].set_yticklabels(['{:,.0%}'.format(x) for x in vals])\n",
    "plt.show()"
   ]
  },
  {
   "cell_type": "markdown",
   "metadata": {},
   "source": [
    "I was kind of thinking that Gender will be a culprit whether the patient misses his/her oppointment or not, but the numbers says that it doesn't at all."
   ]
  },
  {
   "cell_type": "code",
   "execution_count": 609,
   "metadata": {},
   "outputs": [
    {
     "data": {
      "image/png": "[encoded data removed]",
      "text/plain": [
       "<Figure size 1080x432 with 1 Axes>"
      ]
     },
     "metadata": {
      "needs_background": "light"
     },
     "output_type": "display_data"
    }
   ],
   "source": [
    "plt.figure(figsize=(15,6))\n",
    "ax = df_c[df_c.ShowedUp == 1].Age.hist(bins=20,alpha=0.5,label='Showed up = 1')\n",
    "df_c[df_c.ShowedUp == 0].Age.hist(bins=20,label='Showed up = 0')\n",
    "ax.set_ylabel('Count')\n",
    "ax.set_xlabel('Age')\n",
    "ax.set_title('Distribution of age vs showing up')\n",
    "plt.legend();"
   ]
  },
  {
   "cell_type": "code",
   "execution_count": 610,
   "metadata": {},
   "outputs": [
    {
     "data": {
      "image/png": "[encoded data removed]",
      "text/plain": [
       "<Figure size 720x504 with 1 Axes>"
      ]
     },
     "metadata": {
      "needs_background": "light"
     },
     "output_type": "display_data"
    }
   ],
   "source": [
    "plt.rcParams[\"figure.figsize\"] = (10,7)\n",
    "ax = df_c[['Age','ShowedUp']].groupby(['ShowedUp']).mean().plot.bar()\n",
    "plt.title('The average age of patients who miss their appointment are younger')\n",
    "\n",
    "ax.set_ylabel('Average Age');"
   ]
  },
  {
   "cell_type": "markdown",
   "metadata": {},
   "source": [
    "So although the difference isn't that big but age is the first notable factor affecting missing the appointments since older patients are more likely to show up."
   ]
  },
  {
   "cell_type": "code",
   "execution_count": 611,
   "metadata": {
    "scrolled": false
   },
   "outputs": [
    {
     "data": {
      "image/png": "[encoded data removed]",
      "text/plain": [
       "<Figure size 720x504 with 1 Axes>"
      ]
     },
     "metadata": {
      "needs_background": "light"
     },
     "output_type": "display_data"
    }
   ],
   "source": [
    "plt.rcParams[\"figure.figsize\"] = (10,7)\n",
    "ax = df_c[['BolsaFamilia','ShowedUp']].groupby(['BolsaFamilia']).mean().plot.bar()\n",
    "plt.title(\"Patients who aren't a part of the program are more likely to show up\")\n",
    "ax.set_ylabel('Showing up percentage')\n",
    "vals = ax.get_yticks()\n",
    "ax.set_yticklabels(['{:,.0%}'.format(x) for x in vals]);"
   ]
  },
  {
   "cell_type": "markdown",
   "metadata": {},
   "source": [
    "Patients who are included in the social aid Bolsa Familia are more likely to miss their appointment which makes sense since their reservation might be completely free or at least really discounted."
   ]
  },
  {
   "cell_type": "code",
   "execution_count": 612,
   "metadata": {},
   "outputs": [
    {
     "data": {
      "image/png": "[encoded data removed]",
      "text/plain": [
       "<Figure size 720x504 with 1 Axes>"
      ]
     },
     "metadata": {
      "needs_background": "light"
     },
     "output_type": "display_data"
    }
   ],
   "source": [
    "plt.rcParams[\"figure.figsize\"] = (10,7)\n",
    "ax = df_c[['ReceivedText','ShowedUp']].groupby(['ReceivedText']).mean().plot.bar()\n",
    "plt.title(\"Patients who recieved a text are more likely to miss the appointment\")\n",
    "ax.set_ylabel('Showing up percentage')\n",
    "vals = ax.get_yticks()\n",
    "ax.set_yticklabels(['{:,.0%}'.format(x) for x in vals]);"
   ]
  },
  {
   "cell_type": "code",
   "execution_count": 613,
   "metadata": {},
   "outputs": [
    {
     "data": {
      "text/plain": [
       "0    75045\n",
       "1    35482\n",
       "Name: ReceivedText, dtype: int64"
      ]
     },
     "execution_count": 613,
     "metadata": {},
     "output_type": "execute_result"
    }
   ],
   "source": [
    "df_c.ReceivedText.value_counts()"
   ]
  },
  {
   "cell_type": "code",
   "execution_count": 614,
   "metadata": {},
   "outputs": [
    {
     "data": {
      "text/plain": [
       "BolsaFamilia  ReceivedText\n",
       "0             0               67689\n",
       "              1               31977\n",
       "1             0                7356\n",
       "              1                3505\n",
       "Name: ReceivedText, dtype: int64"
      ]
     },
     "execution_count": 614,
     "metadata": {},
     "output_type": "execute_result"
    }
   ],
   "source": [
    "df_c[['ReceivedText','BolsaFamilia']].groupby('BolsaFamilia').ReceivedText.value_counts()"
   ]
  },
  {
   "cell_type": "markdown",
   "metadata": {},
   "source": [
    "Out of all the insights we got, this is the one who strikes me the most.\n",
    "Patients who got notified with a SMS missed their visit more and by a big 10 percent which is the most notable difference so far.\n",
    "However looking at how many patients recieved the SMS which is only one third of the total, it seems like this text is sent when the patient is late or something like that.\n",
    "This data has a lot of records and a trend like this can't be neglected espcially that why not send the SMS to all patients and hence there must be a reason for the text.\n",
    "\n",
    "Another speculation is that maybe not everyone has a cellphone, but looking at the financial aid in relation to recieved text but the numbers didn't show any relation"
   ]
  },
  {
   "cell_type": "code",
   "execution_count": 615,
   "metadata": {},
   "outputs": [
    {
     "data": {
      "image/png": "[encoded data removed]",
      "text/plain": [
       "<Figure size 720x504 with 1 Axes>"
      ]
     },
     "metadata": {
      "needs_background": "light"
     },
     "output_type": "display_data"
    }
   ],
   "source": [
    "plt.rcParams[\"figure.figsize\"] = (10,7)\n",
    "ax = df_c[['ScheduledDayOfWeek','ShowedUp']].groupby(['ScheduledDayOfWeek']).mean().plot.bar()\n",
    "plt.legend(loc='center left', bbox_to_anchor=(1, 0.5));\n",
    "plt.title(\"All days look almost the same except Saturday\");\n",
    "ax.set_ylabel('Showing up percentage')\n",
    "vals = ax.get_yticks()\n",
    "ax.set_yticklabels(['{:,.0%}'.format(x) for x in vals]);"
   ]
  },
  {
   "cell_type": "markdown",
   "metadata": {},
   "source": [
    "Upon further inspection Saturday got only 24 appointments which 23 of them where no show however due to the low number of records it can be taken with a grain of salt."
   ]
  },
  {
   "cell_type": "markdown",
   "metadata": {},
   "source": [
    "Next would be some graphs to different time conditions the most notable was scheduled month being June which has a huge advantage to get the patient to show up."
   ]
  },
  {
   "cell_type": "code",
   "execution_count": 616,
   "metadata": {},
   "outputs": [
    {
     "data": {
      "image/png": "[encoded data removed]",
      "text/plain": [
       "<Figure size 720x504 with 1 Axes>"
      ]
     },
     "metadata": {
      "needs_background": "light"
     },
     "output_type": "display_data"
    }
   ],
   "source": [
    "ax = df_c[['AppointmentDayOfWeek','ShowedUp']].groupby(['AppointmentDayOfWeek']).mean().plot.bar()\n",
    "plt.legend(loc='center left', bbox_to_anchor=(1, 0.5));\n",
    "ax.set_ylabel('Showing up percentage')\n",
    "vals = ax.get_yticks()\n",
    "ax.set_title('Showing up percentages through different days')\n",
    "ax.set_yticklabels(['{:,.0%}'.format(x) for x in vals]);"
   ]
  },
  {
   "cell_type": "code",
   "execution_count": 617,
   "metadata": {
    "scrolled": false
   },
   "outputs": [
    {
     "data": {
      "image/png": "[encoded data removed]",
      "text/plain": [
       "<Figure size 720x504 with 1 Axes>"
      ]
     },
     "metadata": {
      "needs_background": "light"
     },
     "output_type": "display_data"
    }
   ],
   "source": [
    "plt.rcParams[\"figure.figsize\"] = (10,7)\n",
    "ax = df_c[['ScheduledMonth','ShowedUp']].groupby(['ScheduledMonth']).mean().plot.bar()\n",
    "plt.legend(loc='center left', bbox_to_anchor=(1, 0.5));\n",
    "ax.set_ylabel('Showing up percentage')\n",
    "ax.set_title('Showing up percentages through different months')\n",
    "vals = ax.get_yticks()\n",
    "ax.set_yticklabels(['{:,.0%}'.format(x) for x in vals]);"
   ]
  },
  {
   "cell_type": "code",
   "execution_count": 618,
   "metadata": {},
   "outputs": [
    {
     "data": {
      "text/html": [
       "<div>\n",
       "<style scoped>\n",
       "    .dataframe tbody tr th:only-of-type {\n",
       "        vertical-align: middle;\n",
       "    }\n",
       "\n",
       "    .dataframe tbody tr th {\n",
       "        vertical-align: top;\n",
       "    }\n",
       "\n",
       "    .dataframe thead th {\n",
       "        text-align: right;\n",
       "    }\n",
       "</style>\n",
       "<table border=\"1\" class=\"dataframe\">\n",
       "  <thead>\n",
       "    <tr style=\"text-align: right;\">\n",
       "      <th></th>\n",
       "      <th>PatientId</th>\n",
       "      <th>AppointmentId</th>\n",
       "      <th>Gender</th>\n",
       "      <th>ScheduledDay</th>\n",
       "      <th>AppointmentDay</th>\n",
       "      <th>Age</th>\n",
       "      <th>Neighbourhood</th>\n",
       "      <th>BolsaFamilia</th>\n",
       "      <th>Hipertension</th>\n",
       "      <th>Diabetes</th>\n",
       "      <th>Alcoholism</th>\n",
       "      <th>Handcap</th>\n",
       "      <th>ReceivedText</th>\n",
       "      <th>ShowedUp</th>\n",
       "      <th>ScheduledDayOfWeek</th>\n",
       "      <th>AppointmentDayOfWeek</th>\n",
       "      <th>ScheduledMonth</th>\n",
       "      <th>AppointmentMonth</th>\n",
       "      <th>ScheduledDayInMonth</th>\n",
       "      <th>AppointmentDayInMonth</th>\n",
       "      <th>DaysDifference</th>\n",
       "      <th>ScheduledWeekInMonth</th>\n",
       "      <th>AppointmentWeekInMonth</th>\n",
       "      <th>ScheduledHour</th>\n",
       "      <th>NumberOfConditions</th>\n",
       "      <th>Suffering</th>\n",
       "    </tr>\n",
       "  </thead>\n",
       "  <tbody>\n",
       "    <tr>\n",
       "      <th>3764</th>\n",
       "      <td>832256398961987</td>\n",
       "      <td>5030230</td>\n",
       "      <td>F</td>\n",
       "      <td>2015-11-10 07:13:56</td>\n",
       "      <td>2016-05-04</td>\n",
       "      <td>51</td>\n",
       "      <td>Resistência</td>\n",
       "      <td>0</td>\n",
       "      <td>0</td>\n",
       "      <td>0</td>\n",
       "      <td>0</td>\n",
       "      <td>0</td>\n",
       "      <td>1</td>\n",
       "      <td>1</td>\n",
       "      <td>Tuesday</td>\n",
       "      <td>Wednesday</td>\n",
       "      <td>November</td>\n",
       "      <td>May</td>\n",
       "      <td>10</td>\n",
       "      <td>4</td>\n",
       "      <td>-189</td>\n",
       "      <td>2</td>\n",
       "      <td>1</td>\n",
       "      <td>7</td>\n",
       "      <td>0</td>\n",
       "      <td>0</td>\n",
       "    </tr>\n",
       "  </tbody>\n",
       "</table>\n",
       "</div>"
      ],
      "text/plain": [
       "            PatientId AppointmentId Gender        ScheduledDay AppointmentDay  \\\n",
       "3764  832256398961987       5030230      F 2015-11-10 07:13:56     2016-05-04   \n",
       "\n",
       "      Age Neighbourhood  BolsaFamilia  Hipertension  Diabetes  Alcoholism  \\\n",
       "3764   51   Resistência             0             0         0           0   \n",
       "\n",
       "      Handcap  ReceivedText  ShowedUp ScheduledDayOfWeek AppointmentDayOfWeek  \\\n",
       "3764        0             1         1            Tuesday            Wednesday   \n",
       "\n",
       "     ScheduledMonth AppointmentMonth  ScheduledDayInMonth  \\\n",
       "3764       November              May                   10   \n",
       "\n",
       "      AppointmentDayInMonth  DaysDifference  ScheduledWeekInMonth  \\\n",
       "3764                      4            -189                     2   \n",
       "\n",
       "      AppointmentWeekInMonth  ScheduledHour  NumberOfConditions  Suffering  \n",
       "3764                       1              7                   0          0  "
      ]
     },
     "execution_count": 618,
     "metadata": {},
     "output_type": "execute_result"
    }
   ],
   "source": [
    "df_c[df_c.ScheduledMonth == 'November']"
   ]
  },
  {
   "cell_type": "markdown",
   "metadata": {},
   "source": [
    "November has a 100% showing up rate but it has only one occurance, but when it comes to June a real trend can be seen, if the patient schedualed on June it's more likely it will be a show up when compared to other months.\n"
   ]
  },
  {
   "cell_type": "code",
   "execution_count": 619,
   "metadata": {},
   "outputs": [
    {
     "data": {
      "image/png": "[encoded data removed]",
      "text/plain": [
       "<Figure size 720x504 with 1 Axes>"
      ]
     },
     "metadata": {
      "needs_background": "light"
     },
     "output_type": "display_data"
    }
   ],
   "source": [
    "plt.rcParams[\"figure.figsize\"] = (10,7)\n",
    "ax = df_c[['AppointmentMonth','ShowedUp']].groupby(['AppointmentMonth']).mean().plot.bar()\n",
    "ax.set_title('Showing up percentages through different months')\n",
    "plt.legend(loc='center left', bbox_to_anchor=(1, 0.5));\n",
    "ax.set_ylabel('Showing up percentage')\n",
    "vals = ax.get_yticks()\n",
    "ax.set_yticklabels(['{:,.0%}'.format(x) for x in vals]);"
   ]
  },
  {
   "cell_type": "markdown",
   "metadata": {},
   "source": [
    "Differances are minimal here"
   ]
  },
  {
   "cell_type": "code",
   "execution_count": 620,
   "metadata": {},
   "outputs": [
    {
     "data": {
      "image/png": "[encoded data removed]",
      "text/plain": [
       "<Figure size 1296x288 with 1 Axes>"
      ]
     },
     "metadata": {
      "needs_background": "light"
     },
     "output_type": "display_data"
    }
   ],
   "source": [
    "plt.rcParams[\"figure.figsize\"] = (18,4)\n",
    "ax = df_c[['ScheduledDayInMonth','ShowedUp']].groupby(['ScheduledDayInMonth']).mean().plot.bar();\n",
    "ax.set_title('Showing up percentages through different days of the month')\n",
    "ax.set_ylabel('Showing up percentage')\n",
    "vals = ax.get_yticks()\n",
    "ax.set_yticklabels(['{:,.0%}'.format(x) for x in vals]);\n",
    "plt.legend(loc='center left', bbox_to_anchor=(1, 0.5));"
   ]
  },
  {
   "cell_type": "markdown",
   "metadata": {},
   "source": [
    "We can definately see a wave pattern here which shows the effect of which day in the week it is.\n",
    "Each day of the month has the around the same probability if we decrease or increas 7 days most of the time\n"
   ]
  },
  {
   "cell_type": "code",
   "execution_count": 621,
   "metadata": {
    "scrolled": false
   },
   "outputs": [
    {
     "data": {
      "image/png": "[encoded data removed]",
      "text/plain": [
       "<Figure size 1296x288 with 1 Axes>"
      ]
     },
     "metadata": {
      "needs_background": "light"
     },
     "output_type": "display_data"
    }
   ],
   "source": [
    "plt.rcParams[\"figure.figsize\"] = (18,4)\n",
    "ax = df_c[['AppointmentDayInMonth','ShowedUp']].groupby(['AppointmentDayInMonth']).mean().plot.bar();\n",
    "ax.set_ylabel('Showing up percentage')\n",
    "vals = ax.get_yticks()\n",
    "ax.set_yticklabels(['{:,.0%}'.format(x) for x in vals]);\n",
    "plt.legend(loc='center left', bbox_to_anchor=(1, 0.5));"
   ]
  },
  {
   "cell_type": "markdown",
   "metadata": {},
   "source": [
    "it's actually weird that the scheduale day is more affecting than the appointing day itself"
   ]
  },
  {
   "cell_type": "code",
   "execution_count": 622,
   "metadata": {},
   "outputs": [
    {
     "data": {
      "text/plain": [
       "1    23\n",
       "0     1\n",
       "Name: ShowedUp, dtype: int64"
      ]
     },
     "execution_count": 622,
     "metadata": {},
     "output_type": "execute_result"
    }
   ],
   "source": [
    "df_c[df_c.ScheduledDayOfWeek == 'Saturday'].ShowedUp.value_counts()"
   ]
  },
  {
   "cell_type": "code",
   "execution_count": 623,
   "metadata": {},
   "outputs": [
    {
     "data": {
      "text/plain": [
       "1    12364\n",
       "0     1386\n",
       "Name: ShowedUp, dtype: int64"
      ]
     },
     "execution_count": 623,
     "metadata": {},
     "output_type": "execute_result"
    }
   ],
   "source": [
    "df_c[df_c.ScheduledMonth == 'June'].ShowedUp.value_counts()"
   ]
  },
  {
   "cell_type": "code",
   "execution_count": 624,
   "metadata": {},
   "outputs": [
    {
     "data": {
      "image/png": "[encoded data removed]",
      "text/plain": [
       "<Figure size 576x576 with 1 Axes>"
      ]
     },
     "metadata": {
      "needs_background": "light"
     },
     "output_type": "display_data"
    }
   ],
   "source": [
    "plt.rcParams[\"figure.figsize\"] = (8,8)\n",
    "ax = df_c[['DaysDifference','ShowedUp']].groupby(['ShowedUp']).mean().plot.bar();\n",
    "plt.title(\"The less the difference between the Schedule day and the appointment day the more likely the patient will show up\");\n",
    "ax.set_ylabel('Average days difference');"
   ]
  },
  {
   "cell_type": "markdown",
   "metadata": {},
   "source": [
    "This is a no brainer the less the days difference between the reserving and the appointment itself, the more likely the patient would show up."
   ]
  },
  {
   "cell_type": "code",
   "execution_count": 625,
   "metadata": {},
   "outputs": [
    {
     "data": {
      "image/png": "[encoded data removed]",
      "text/plain": [
       "<Figure size 1152x432 with 1 Axes>"
      ]
     },
     "metadata": {
      "needs_background": "light"
     },
     "output_type": "display_data"
    }
   ],
   "source": [
    "plt.rcParams[\"figure.figsize\"] = (16,6)\n",
    "ax = df_c[['ScheduledWeekInMonth','ShowedUp']].groupby(['ScheduledWeekInMonth']).mean().plot.bar();\n",
    "ax.set_ylabel('Showing up percentage')\n",
    "vals = ax.get_yticks()\n",
    "plt.title(\"The latter the week the more likely the patient will miss\");\n",
    "ax.set_yticklabels(['{:,.0%}'.format(x) for x in vals]);\n",
    "plt.legend(loc='center left', bbox_to_anchor=(1, 0.5));"
   ]
  },
  {
   "cell_type": "markdown",
   "metadata": {},
   "source": [
    "The later the appointment in the month the more likely to miss the appointment except for the last few days of each month showing up rises again."
   ]
  },
  {
   "cell_type": "code",
   "execution_count": 626,
   "metadata": {},
   "outputs": [
    {
     "data": {
      "image/png": "[encoded data removed]",
      "text/plain": [
       "<Figure size 1152x432 with 1 Axes>"
      ]
     },
     "metadata": {
      "needs_background": "light"
     },
     "output_type": "display_data"
    }
   ],
   "source": [
    "plt.rcParams[\"figure.figsize\"] = (16,6)\n",
    "ax = df_c[['AppointmentWeekInMonth','ShowedUp']].groupby(['AppointmentWeekInMonth']).mean().plot.bar();\n",
    "ax.set_ylabel('Showing up percentage')\n",
    "plt.title(\"The less the difference between the Schedule day and the appointment day the more likely the patient will show up\");\n",
    "vals = ax.get_yticks()\n",
    "ax.set_yticklabels(['{:,.0%}'.format(x) for x in vals]);\n",
    "plt.legend(loc='center left', bbox_to_anchor=(1, 0.5));"
   ]
  },
  {
   "cell_type": "markdown",
   "metadata": {},
   "source": []
  },
  {
   "cell_type": "code",
   "execution_count": 627,
   "metadata": {},
   "outputs": [
    {
     "data": {
      "image/png": "[encoded data removed]",
      "text/plain": [
       "<Figure size 1296x432 with 1 Axes>"
      ]
     },
     "metadata": {
      "needs_background": "light"
     },
     "output_type": "display_data"
    }
   ],
   "source": [
    "plt.rcParams[\"figure.figsize\"] = (18,6)\n",
    "ax = df_c[['ScheduledHour','ShowedUp']].groupby(['ScheduledHour']).mean().plot.bar();\n",
    "ax.set_ylabel('Showing up percentage')\n",
    "vals = ax.get_yticks()\n",
    "plt.title(\"Effect of hour on showing up\");\n",
    "ax.set_yticklabels(['{:,.0%}'.format(x) for x in vals]);"
   ]
  },
  {
   "cell_type": "markdown",
   "metadata": {},
   "source": [
    "Time of day definately has an effect and we can see it's almost right skewed"
   ]
  },
  {
   "cell_type": "code",
   "execution_count": 628,
   "metadata": {},
   "outputs": [
    {
     "data": {
      "image/png": "[encoded data removed]",
      "text/plain": [
       "<Figure size 1296x432 with 1 Axes>"
      ]
     },
     "metadata": {
      "needs_background": "light"
     },
     "output_type": "display_data"
    }
   ],
   "source": [
    "plt.rcParams[\"figure.figsize\"] = (18,6)\n",
    "ax = df_c[['NumberOfConditions','ShowedUp']].groupby(['NumberOfConditions']).mean().plot.bar();\n",
    "ax.set_ylabel('Showing up percentage')\n",
    "plt.title(\"Increasing number of conditions increases showing up rate\");\n",
    "vals = ax.get_yticks()\n",
    "ax.set_yticklabels(['{:,.0%}'.format(x) for x in vals]);"
   ]
  },
  {
   "cell_type": "markdown",
   "metadata": {},
   "source": [
    "The higher the number of conditions the more the patient would need the appointment and this is shown really well here we can see a pattern, but still this pattern changes when customers have all 4 conditions."
   ]
  },
  {
   "cell_type": "code",
   "execution_count": 629,
   "metadata": {},
   "outputs": [
    {
     "data": {
      "image/png": "[encoded data removed]",
      "text/plain": [
       "<Figure size 1296x432 with 1 Axes>"
      ]
     },
     "metadata": {
      "needs_background": "light"
     },
     "output_type": "display_data"
    }
   ],
   "source": [
    "plt.rcParams[\"figure.figsize\"] = (18,6)\n",
    "ax = df_c[['Suffering','ShowedUp']].groupby(['Suffering']).mean().plot.bar();\n",
    "ax.set_ylabel('Showing up percentage')\n",
    "plt.title(\"The patient is more likely to show up if he has atleast one condition\");\n",
    "vals = ax.get_yticks()\n",
    "ax.set_yticklabels(['{:,.0%}'.format(x) for x in vals]);"
   ]
  },
  {
   "cell_type": "markdown",
   "metadata": {},
   "source": [
    "Same as previously the patient shows up more if he has a condition."
   ]
  },
  {
   "cell_type": "markdown",
   "metadata": {},
   "source": [
    "-----------"
   ]
  },
  {
   "cell_type": "markdown",
   "metadata": {},
   "source": [
    "## Machine Learning <a id='Learning'></a>"
   ]
  },
  {
   "cell_type": "code",
   "execution_count": 630,
   "metadata": {},
   "outputs": [],
   "source": [
    "df_m = df_c.copy()"
   ]
  },
  {
   "cell_type": "code",
   "execution_count": 631,
   "metadata": {},
   "outputs": [
    {
     "data": {
      "text/html": [
       "<div>\n",
       "<style scoped>\n",
       "    .dataframe tbody tr th:only-of-type {\n",
       "        vertical-align: middle;\n",
       "    }\n",
       "\n",
       "    .dataframe tbody tr th {\n",
       "        vertical-align: top;\n",
       "    }\n",
       "\n",
       "    .dataframe thead th {\n",
       "        text-align: right;\n",
       "    }\n",
       "</style>\n",
       "<table border=\"1\" class=\"dataframe\">\n",
       "  <thead>\n",
       "    <tr style=\"text-align: right;\">\n",
       "      <th></th>\n",
       "      <th>PatientId</th>\n",
       "      <th>AppointmentId</th>\n",
       "      <th>Gender</th>\n",
       "      <th>ScheduledDay</th>\n",
       "      <th>AppointmentDay</th>\n",
       "      <th>Age</th>\n",
       "      <th>Neighbourhood</th>\n",
       "      <th>BolsaFamilia</th>\n",
       "      <th>Hipertension</th>\n",
       "      <th>Diabetes</th>\n",
       "      <th>Alcoholism</th>\n",
       "      <th>Handcap</th>\n",
       "      <th>ReceivedText</th>\n",
       "      <th>ShowedUp</th>\n",
       "      <th>ScheduledDayOfWeek</th>\n",
       "      <th>AppointmentDayOfWeek</th>\n",
       "      <th>ScheduledMonth</th>\n",
       "      <th>AppointmentMonth</th>\n",
       "      <th>ScheduledDayInMonth</th>\n",
       "      <th>AppointmentDayInMonth</th>\n",
       "      <th>DaysDifference</th>\n",
       "      <th>ScheduledWeekInMonth</th>\n",
       "      <th>AppointmentWeekInMonth</th>\n",
       "      <th>ScheduledHour</th>\n",
       "      <th>NumberOfConditions</th>\n",
       "      <th>Suffering</th>\n",
       "    </tr>\n",
       "  </thead>\n",
       "  <tbody>\n",
       "    <tr>\n",
       "      <th>0</th>\n",
       "      <td>29872499824296</td>\n",
       "      <td>5642903</td>\n",
       "      <td>F</td>\n",
       "      <td>2016-04-29 18:38:08</td>\n",
       "      <td>2016-04-29</td>\n",
       "      <td>62</td>\n",
       "      <td>Jardim Da Penha</td>\n",
       "      <td>0</td>\n",
       "      <td>1</td>\n",
       "      <td>0</td>\n",
       "      <td>0</td>\n",
       "      <td>0</td>\n",
       "      <td>0</td>\n",
       "      <td>1</td>\n",
       "      <td>Friday</td>\n",
       "      <td>Friday</td>\n",
       "      <td>April</td>\n",
       "      <td>April</td>\n",
       "      <td>29</td>\n",
       "      <td>29</td>\n",
       "      <td>0</td>\n",
       "      <td>5</td>\n",
       "      <td>5</td>\n",
       "      <td>18</td>\n",
       "      <td>1</td>\n",
       "      <td>1</td>\n",
       "    </tr>\n",
       "  </tbody>\n",
       "</table>\n",
       "</div>"
      ],
      "text/plain": [
       "        PatientId AppointmentId Gender        ScheduledDay AppointmentDay  \\\n",
       "0  29872499824296       5642903      F 2016-04-29 18:38:08     2016-04-29   \n",
       "\n",
       "   Age    Neighbourhood  BolsaFamilia  Hipertension  Diabetes  Alcoholism  \\\n",
       "0   62  Jardim Da Penha             0             1         0           0   \n",
       "\n",
       "   Handcap  ReceivedText  ShowedUp ScheduledDayOfWeek AppointmentDayOfWeek  \\\n",
       "0        0             0         1             Friday               Friday   \n",
       "\n",
       "  ScheduledMonth AppointmentMonth  ScheduledDayInMonth  AppointmentDayInMonth  \\\n",
       "0          April            April                   29                     29   \n",
       "\n",
       "   DaysDifference  ScheduledWeekInMonth  AppointmentWeekInMonth  \\\n",
       "0               0                     5                       5   \n",
       "\n",
       "   ScheduledHour  NumberOfConditions  Suffering  \n",
       "0             18                   1          1  "
      ]
     },
     "execution_count": 631,
     "metadata": {},
     "output_type": "execute_result"
    }
   ],
   "source": [
    "df_m.head(1)"
   ]
  },
  {
   "cell_type": "code",
   "execution_count": 632,
   "metadata": {},
   "outputs": [],
   "source": [
    "df_m.drop(columns=['PatientId','AppointmentId','ScheduledDay','AppointmentDay'],inplace=True)"
   ]
  },
  {
   "cell_type": "code",
   "execution_count": 633,
   "metadata": {},
   "outputs": [],
   "source": [
    "Male = pd.get_dummies(df_m.Gender,drop_first=True)"
   ]
  },
  {
   "cell_type": "code",
   "execution_count": 634,
   "metadata": {},
   "outputs": [],
   "source": [
    "df_m.Gender = Male"
   ]
  },
  {
   "cell_type": "code",
   "execution_count": 635,
   "metadata": {},
   "outputs": [],
   "source": [
    "df_m.rename(columns={'Gender':'Male'},inplace=True)"
   ]
  },
  {
   "cell_type": "code",
   "execution_count": 636,
   "metadata": {},
   "outputs": [],
   "source": [
    "Neighbourhood = pd.get_dummies(df_m.Neighbourhood)"
   ]
  },
  {
   "cell_type": "code",
   "execution_count": 637,
   "metadata": {},
   "outputs": [],
   "source": [
    "ScheduledDayOfWeek = pd.get_dummies(df_m.ScheduledDayOfWeek,prefix='Sch_W')"
   ]
  },
  {
   "cell_type": "code",
   "execution_count": 638,
   "metadata": {},
   "outputs": [],
   "source": [
    "AppointmentDayOfWeek = pd.get_dummies(df_m.AppointmentDayOfWeek,prefix='App_W')"
   ]
  },
  {
   "cell_type": "code",
   "execution_count": 639,
   "metadata": {},
   "outputs": [],
   "source": [
    "ScheduledMonth = pd.get_dummies(df_m.ScheduledMonth,prefix='Sch_M')"
   ]
  },
  {
   "cell_type": "code",
   "execution_count": 640,
   "metadata": {},
   "outputs": [],
   "source": [
    "AppointmentMonth = pd.get_dummies(df_m.AppointmentMonth,prefix='App_M')"
   ]
  },
  {
   "cell_type": "code",
   "execution_count": null,
   "metadata": {},
   "outputs": [],
   "source": []
  },
  {
   "cell_type": "code",
   "execution_count": 641,
   "metadata": {},
   "outputs": [],
   "source": [
    "df_m = df_m.join(Neighbourhood)"
   ]
  },
  {
   "cell_type": "code",
   "execution_count": 642,
   "metadata": {},
   "outputs": [],
   "source": [
    "df_m = df_m.join(ScheduledDayOfWeek)"
   ]
  },
  {
   "cell_type": "code",
   "execution_count": 643,
   "metadata": {},
   "outputs": [],
   "source": [
    "# This feature decreased accuracy\n",
    "#df_m = df_m.join(AppointmentDayOfWeek)"
   ]
  },
  {
   "cell_type": "code",
   "execution_count": 644,
   "metadata": {},
   "outputs": [],
   "source": [
    "df_m = df_m.join(ScheduledMonth)"
   ]
  },
  {
   "cell_type": "code",
   "execution_count": 645,
   "metadata": {},
   "outputs": [],
   "source": [
    "# This feature decreased accuracy\n",
    "#df_m = df_m.join(AppointmentMonth)"
   ]
  },
  {
   "cell_type": "code",
   "execution_count": null,
   "metadata": {},
   "outputs": [],
   "source": []
  },
  {
   "cell_type": "code",
   "execution_count": 646,
   "metadata": {},
   "outputs": [],
   "source": [
    "df_m.drop(columns=['Neighbourhood','ScheduledDayOfWeek','AppointmentDayOfWeek','ScheduledMonth','AppointmentMonth'],inplace=True)"
   ]
  },
  {
   "cell_type": "code",
   "execution_count": 647,
   "metadata": {},
   "outputs": [
    {
     "data": {
      "text/html": [
       "<div>\n",
       "<style scoped>\n",
       "    .dataframe tbody tr th:only-of-type {\n",
       "        vertical-align: middle;\n",
       "    }\n",
       "\n",
       "    .dataframe tbody tr th {\n",
       "        vertical-align: top;\n",
       "    }\n",
       "\n",
       "    .dataframe thead th {\n",
       "        text-align: right;\n",
       "    }\n",
       "</style>\n",
       "<table border=\"1\" class=\"dataframe\">\n",
       "  <thead>\n",
       "    <tr style=\"text-align: right;\">\n",
       "      <th></th>\n",
       "      <th>Male</th>\n",
       "      <th>Age</th>\n",
       "      <th>BolsaFamilia</th>\n",
       "      <th>Hipertension</th>\n",
       "      <th>Diabetes</th>\n",
       "      <th>Alcoholism</th>\n",
       "      <th>Handcap</th>\n",
       "      <th>ReceivedText</th>\n",
       "      <th>ShowedUp</th>\n",
       "      <th>ScheduledDayInMonth</th>\n",
       "      <th>AppointmentDayInMonth</th>\n",
       "      <th>DaysDifference</th>\n",
       "      <th>ScheduledWeekInMonth</th>\n",
       "      <th>AppointmentWeekInMonth</th>\n",
       "      <th>ScheduledHour</th>\n",
       "      <th>NumberOfConditions</th>\n",
       "      <th>Suffering</th>\n",
       "      <th>Aeroporto</th>\n",
       "      <th>Andorinhas</th>\n",
       "      <th>Antônio Honório</th>\n",
       "      <th>Ariovaldo Favalessa</th>\n",
       "      <th>Barro Vermelho</th>\n",
       "      <th>Bela Vista</th>\n",
       "      <th>Bento Ferreira</th>\n",
       "      <th>Boa Vista</th>\n",
       "      <th>Bonfim</th>\n",
       "      <th>Caratoíra</th>\n",
       "      <th>Centro</th>\n",
       "      <th>Comdusa</th>\n",
       "      <th>Conquista</th>\n",
       "      <th>Consolação</th>\n",
       "      <th>Cruzamento</th>\n",
       "      <th>Da Penha</th>\n",
       "      <th>De Lourdes</th>\n",
       "      <th>Do Cabral</th>\n",
       "      <th>Do Moscoso</th>\n",
       "      <th>Do Quadro</th>\n",
       "      <th>Enseada Do Suá</th>\n",
       "      <th>Estrelinha</th>\n",
       "      <th>Fonte Grande</th>\n",
       "      <th>Forte São João</th>\n",
       "      <th>Fradinhos</th>\n",
       "      <th>Goiabeiras</th>\n",
       "      <th>Grande Vitória</th>\n",
       "      <th>Gurigica</th>\n",
       "      <th>Horto</th>\n",
       "      <th>Ilha Das Caieiras</th>\n",
       "      <th>Ilha De Santa Maria</th>\n",
       "      <th>Ilha Do Boi</th>\n",
       "      <th>Ilha Do Frade</th>\n",
       "      <th>Ilha Do Príncipe</th>\n",
       "      <th>Ilhas Oceânicas De Trindade</th>\n",
       "      <th>Inhanguetá</th>\n",
       "      <th>Itararé</th>\n",
       "      <th>Jabour</th>\n",
       "      <th>Jardim Camburi</th>\n",
       "      <th>Jardim Da Penha</th>\n",
       "      <th>Jesus De Nazareth</th>\n",
       "      <th>Joana D´Arc</th>\n",
       "      <th>Jucutuquara</th>\n",
       "      <th>Maria Ortiz</th>\n",
       "      <th>Maruípe</th>\n",
       "      <th>Mata Da Praia</th>\n",
       "      <th>Monte Belo</th>\n",
       "      <th>Morada De Camburi</th>\n",
       "      <th>Mário Cypreste</th>\n",
       "      <th>Nazareth</th>\n",
       "      <th>Nova Palestina</th>\n",
       "      <th>Parque Industrial</th>\n",
       "      <th>Parque Moscoso</th>\n",
       "      <th>Piedade</th>\n",
       "      <th>Pontal De Camburi</th>\n",
       "      <th>Praia Do Canto</th>\n",
       "      <th>Praia Do Suá</th>\n",
       "      <th>Redenção</th>\n",
       "      <th>República</th>\n",
       "      <th>Resistência</th>\n",
       "      <th>Romão</th>\n",
       "      <th>Santa Cecília</th>\n",
       "      <th>Santa Clara</th>\n",
       "      <th>Santa Helena</th>\n",
       "      <th>Santa Luíza</th>\n",
       "      <th>Santa Lúcia</th>\n",
       "      <th>Santa Martha</th>\n",
       "      <th>Santa Tereza</th>\n",
       "      <th>Santo André</th>\n",
       "      <th>Santo Antônio</th>\n",
       "      <th>Santos Dumont</th>\n",
       "      <th>Santos Reis</th>\n",
       "      <th>Segurança Do Lar</th>\n",
       "      <th>Solon Borges</th>\n",
       "      <th>São Benedito</th>\n",
       "      <th>São Cristóvão</th>\n",
       "      <th>São José</th>\n",
       "      <th>São Pedro</th>\n",
       "      <th>Tabuazeiro</th>\n",
       "      <th>Universitário</th>\n",
       "      <th>Vila Rubim</th>\n",
       "      <th>Sch_W_Friday</th>\n",
       "      <th>Sch_W_Monday</th>\n",
       "      <th>Sch_W_Saturday</th>\n",
       "      <th>Sch_W_Thursday</th>\n",
       "      <th>Sch_W_Tuesday</th>\n",
       "      <th>Sch_W_Wednesday</th>\n",
       "      <th>Sch_M_April</th>\n",
       "      <th>Sch_M_December</th>\n",
       "      <th>Sch_M_February</th>\n",
       "      <th>Sch_M_January</th>\n",
       "      <th>Sch_M_June</th>\n",
       "      <th>Sch_M_March</th>\n",
       "      <th>Sch_M_May</th>\n",
       "      <th>Sch_M_November</th>\n",
       "    </tr>\n",
       "  </thead>\n",
       "  <tbody>\n",
       "    <tr>\n",
       "      <th>0</th>\n",
       "      <td>0</td>\n",
       "      <td>62</td>\n",
       "      <td>0</td>\n",
       "      <td>1</td>\n",
       "      <td>0</td>\n",
       "      <td>0</td>\n",
       "      <td>0</td>\n",
       "      <td>0</td>\n",
       "      <td>1</td>\n",
       "      <td>29</td>\n",
       "      <td>29</td>\n",
       "      <td>0</td>\n",
       "      <td>5</td>\n",
       "      <td>5</td>\n",
       "      <td>18</td>\n",
       "      <td>1</td>\n",
       "      <td>1</td>\n",
       "      <td>0</td>\n",
       "      <td>0</td>\n",
       "      <td>0</td>\n",
       "      <td>0</td>\n",
       "      <td>0</td>\n",
       "      <td>0</td>\n",
       "      <td>0</td>\n",
       "      <td>0</td>\n",
       "      <td>0</td>\n",
       "      <td>0</td>\n",
       "      <td>0</td>\n",
       "      <td>0</td>\n",
       "      <td>0</td>\n",
       "      <td>0</td>\n",
       "      <td>0</td>\n",
       "      <td>0</td>\n",
       "      <td>0</td>\n",
       "      <td>0</td>\n",
       "      <td>0</td>\n",
       "      <td>0</td>\n",
       "      <td>0</td>\n",
       "      <td>0</td>\n",
       "      <td>0</td>\n",
       "      <td>0</td>\n",
       "      <td>0</td>\n",
       "      <td>0</td>\n",
       "      <td>0</td>\n",
       "      <td>0</td>\n",
       "      <td>0</td>\n",
       "      <td>0</td>\n",
       "      <td>0</td>\n",
       "      <td>0</td>\n",
       "      <td>0</td>\n",
       "      <td>0</td>\n",
       "      <td>0</td>\n",
       "      <td>0</td>\n",
       "      <td>0</td>\n",
       "      <td>0</td>\n",
       "      <td>0</td>\n",
       "      <td>1</td>\n",
       "      <td>0</td>\n",
       "      <td>0</td>\n",
       "      <td>0</td>\n",
       "      <td>0</td>\n",
       "      <td>0</td>\n",
       "      <td>0</td>\n",
       "      <td>0</td>\n",
       "      <td>0</td>\n",
       "      <td>0</td>\n",
       "      <td>0</td>\n",
       "      <td>0</td>\n",
       "      <td>0</td>\n",
       "      <td>0</td>\n",
       "      <td>0</td>\n",
       "      <td>0</td>\n",
       "      <td>0</td>\n",
       "      <td>0</td>\n",
       "      <td>0</td>\n",
       "      <td>0</td>\n",
       "      <td>0</td>\n",
       "      <td>0</td>\n",
       "      <td>0</td>\n",
       "      <td>0</td>\n",
       "      <td>0</td>\n",
       "      <td>0</td>\n",
       "      <td>0</td>\n",
       "      <td>0</td>\n",
       "      <td>0</td>\n",
       "      <td>0</td>\n",
       "      <td>0</td>\n",
       "      <td>0</td>\n",
       "      <td>0</td>\n",
       "      <td>0</td>\n",
       "      <td>0</td>\n",
       "      <td>0</td>\n",
       "      <td>0</td>\n",
       "      <td>0</td>\n",
       "      <td>0</td>\n",
       "      <td>0</td>\n",
       "      <td>0</td>\n",
       "      <td>0</td>\n",
       "      <td>1</td>\n",
       "      <td>0</td>\n",
       "      <td>0</td>\n",
       "      <td>0</td>\n",
       "      <td>0</td>\n",
       "      <td>0</td>\n",
       "      <td>1</td>\n",
       "      <td>0</td>\n",
       "      <td>0</td>\n",
       "      <td>0</td>\n",
       "      <td>0</td>\n",
       "      <td>0</td>\n",
       "      <td>0</td>\n",
       "      <td>0</td>\n",
       "    </tr>\n",
       "  </tbody>\n",
       "</table>\n",
       "</div>"
      ],
      "text/plain": [
       "   Male  Age  BolsaFamilia  Hipertension  Diabetes  Alcoholism  Handcap  \\\n",
       "0     0   62             0             1         0           0        0   \n",
       "\n",
       "   ReceivedText  ShowedUp  ScheduledDayInMonth  AppointmentDayInMonth  \\\n",
       "0             0         1                   29                     29   \n",
       "\n",
       "   DaysDifference  ScheduledWeekInMonth  AppointmentWeekInMonth  \\\n",
       "0               0                     5                       5   \n",
       "\n",
       "   ScheduledHour  NumberOfConditions  Suffering  Aeroporto  Andorinhas  \\\n",
       "0             18                   1          1          0           0   \n",
       "\n",
       "   Antônio Honório  Ariovaldo Favalessa  Barro Vermelho  Bela Vista  \\\n",
       "0                0                    0               0           0   \n",
       "\n",
       "   Bento Ferreira  Boa Vista  Bonfim  Caratoíra  Centro  Comdusa  Conquista  \\\n",
       "0               0          0       0          0       0        0          0   \n",
       "\n",
       "   Consolação  Cruzamento  Da Penha  De Lourdes  Do Cabral  Do Moscoso  \\\n",
       "0           0           0         0           0          0           0   \n",
       "\n",
       "   Do Quadro  Enseada Do Suá  Estrelinha  Fonte Grande  Forte São João  \\\n",
       "0          0               0           0             0               0   \n",
       "\n",
       "   Fradinhos  Goiabeiras  Grande Vitória  Gurigica  Horto  Ilha Das Caieiras  \\\n",
       "0          0           0               0         0      0                  0   \n",
       "\n",
       "   Ilha De Santa Maria  Ilha Do Boi  Ilha Do Frade  Ilha Do Príncipe  \\\n",
       "0                    0            0              0                 0   \n",
       "\n",
       "   Ilhas Oceânicas De Trindade  Inhanguetá  Itararé  Jabour  Jardim Camburi  \\\n",
       "0                            0           0        0       0               0   \n",
       "\n",
       "   Jardim Da Penha  Jesus De Nazareth  Joana D´Arc  Jucutuquara  Maria Ortiz  \\\n",
       "0                1                  0            0            0            0   \n",
       "\n",
       "   Maruípe  Mata Da Praia  Monte Belo  Morada De Camburi  Mário Cypreste  \\\n",
       "0        0              0           0                  0               0   \n",
       "\n",
       "   Nazareth  Nova Palestina  Parque Industrial  Parque Moscoso  Piedade  \\\n",
       "0         0               0                  0               0        0   \n",
       "\n",
       "   Pontal De Camburi  Praia Do Canto  Praia Do Suá  Redenção  República  \\\n",
       "0                  0               0             0         0          0   \n",
       "\n",
       "   Resistência  Romão  Santa Cecília  Santa Clara  Santa Helena  Santa Luíza  \\\n",
       "0            0      0              0            0             0            0   \n",
       "\n",
       "   Santa Lúcia  Santa Martha  Santa Tereza  Santo André  Santo Antônio  \\\n",
       "0            0             0             0            0              0   \n",
       "\n",
       "   Santos Dumont  Santos Reis  Segurança Do Lar  Solon Borges  São Benedito  \\\n",
       "0              0            0                 0             0             0   \n",
       "\n",
       "   São Cristóvão  São José  São Pedro  Tabuazeiro  Universitário  Vila Rubim  \\\n",
       "0              0         0          0           0              0           0   \n",
       "\n",
       "   Sch_W_Friday  Sch_W_Monday  Sch_W_Saturday  Sch_W_Thursday  Sch_W_Tuesday  \\\n",
       "0             1             0               0               0              0   \n",
       "\n",
       "   Sch_W_Wednesday  Sch_M_April  Sch_M_December  Sch_M_February  \\\n",
       "0                0            1               0               0   \n",
       "\n",
       "   Sch_M_January  Sch_M_June  Sch_M_March  Sch_M_May  Sch_M_November  \n",
       "0              0           0            0          0               0  "
      ]
     },
     "execution_count": 647,
     "metadata": {},
     "output_type": "execute_result"
    }
   ],
   "source": [
    "df_m.head(1)"
   ]
  },
  {
   "cell_type": "code",
   "execution_count": 648,
   "metadata": {},
   "outputs": [],
   "source": [
    "from sklearn.model_selection import train_test_split"
   ]
  },
  {
   "cell_type": "code",
   "execution_count": 649,
   "metadata": {},
   "outputs": [],
   "source": [
    "from sklearn.metrics import confusion_matrix,accuracy_score,classification_report"
   ]
  },
  {
   "cell_type": "code",
   "execution_count": 650,
   "metadata": {},
   "outputs": [],
   "source": [
    "X = df_m.drop(columns=['ShowedUp'])\n",
    "y = df_m['ShowedUp']"
   ]
  },
  {
   "cell_type": "code",
   "execution_count": 651,
   "metadata": {},
   "outputs": [],
   "source": [
    "X_train, X_test, y_train, y_test = train_test_split(X, y, test_size=0.20, random_state=101)"
   ]
  },
  {
   "cell_type": "markdown",
   "metadata": {},
   "source": [
    "----------"
   ]
  },
  {
   "cell_type": "code",
   "execution_count": 652,
   "metadata": {},
   "outputs": [],
   "source": [
    "from sklearn.ensemble import RandomForestClassifier"
   ]
  },
  {
   "cell_type": "code",
   "execution_count": 653,
   "metadata": {},
   "outputs": [],
   "source": [
    "rfc = RandomForestClassifier(n_estimators=100)"
   ]
  },
  {
   "cell_type": "code",
   "execution_count": 654,
   "metadata": {},
   "outputs": [
    {
     "data": {
      "text/plain": [
       "RandomForestClassifier()"
      ]
     },
     "execution_count": 654,
     "metadata": {},
     "output_type": "execute_result"
    }
   ],
   "source": [
    "rfc.fit(X_train, y_train)"
   ]
  },
  {
   "cell_type": "code",
   "execution_count": 655,
   "metadata": {},
   "outputs": [],
   "source": [
    "rfc_pred = rfc.predict(X_test)"
   ]
  },
  {
   "cell_type": "code",
   "execution_count": 656,
   "metadata": {},
   "outputs": [
    {
     "data": {
      "text/plain": [
       "0.8032660816068036"
      ]
     },
     "execution_count": 656,
     "metadata": {},
     "output_type": "execute_result"
    }
   ],
   "source": [
    "accuracy_score(y_test,rfc_pred)"
   ]
  },
  {
   "cell_type": "code",
   "execution_count": 668,
   "metadata": {},
   "outputs": [
    {
     "data": {
      "text/plain": [
       "array([[  846,   766],\n",
       "       [ 3583, 16911]], dtype=int64)"
      ]
     },
     "execution_count": 668,
     "metadata": {},
     "output_type": "execute_result"
    }
   ],
   "source": [
    "confusion_matrix(rfc_pred,y_test)"
   ]
  },
  {
   "cell_type": "code",
   "execution_count": 658,
   "metadata": {},
   "outputs": [
    {
     "name": "stdout",
     "output_type": "stream",
     "text": [
      "              precision    recall  f1-score   support\n",
      "\n",
      "           0       0.52      0.19      0.28      4429\n",
      "           1       0.83      0.96      0.89     17677\n",
      "\n",
      "    accuracy                           0.80     22106\n",
      "   macro avg       0.67      0.57      0.58     22106\n",
      "weighted avg       0.76      0.80      0.76     22106\n",
      "\n"
     ]
    }
   ],
   "source": [
    "print(classification_report(y_test,rfc_pred))"
   ]
  },
  {
   "cell_type": "markdown",
   "metadata": {},
   "source": [
    "I used Random Forests, Logistic Regression and Decision Trees but Random Forests had the highest accuracy among those."
   ]
  },
  {
   "cell_type": "markdown",
   "metadata": {},
   "source": [
    "-------------------"
   ]
  },
  {
   "cell_type": "markdown",
   "metadata": {},
   "source": [
    "## Conclusion <a id='conc'></a>"
   ]
  },
  {
   "cell_type": "markdown",
   "metadata": {},
   "source": [
    "There a lot of factors affecting if the patient will show up or not and although there is no main culprit feature they all work together to affect the label.\n",
    "\n",
    "Notable insights are:\n",
    "1. Patients who are included in the social program Bolsa Familia miss their appointments more opposed to patients who don't.\n",
    "2. Younger people miss their appointment more.\n",
    "3. Patients who don't have conditions miss their appointment more and also the higher the number of condition the higher the probability to show up.\n",
    "4. If the patient recieved a text it is more likely to be a no show and we discussed a couple of speculations regarding that.\n",
    "\n",
    "Still I faced some limitations since the features on hand wasn't really correlated to Showing up and when it did it was by a fine margin and that made it harder so having more records wouldn't help but having more features definately would, like more info regarding the patient or his socioeconomic state, how far is the hospital to his home, etc.\n",
    "\n",
    "The machine learning algorithm reached 80% which is high specially that the data is not highly collerated, still most of the true guesses where from 'NoShow = 0', as for 'NoShow = 1' it solely it scored around 50%.\n",
    "\n",
    "Still as we said the data isn't that correlated and thus 80% is a very acceptable outcome."
   ]
  },
  {
   "cell_type": "markdown",
   "metadata": {},
   "source": [
    "-------------"
   ]
  },
  {
   "cell_type": "code",
   "execution_count": 659,
   "metadata": {},
   "outputs": [
    {
     "data": {
      "text/plain": [
       "0"
      ]
     },
     "execution_count": 659,
     "metadata": {},
     "output_type": "execute_result"
    }
   ],
   "source": [
    "from subprocess import call\n",
    "call(['python', '-m', 'nbconvert', 'Investigate_a_Dataset.ipynb'])"
   ]
  },
  {
   "cell_type": "code",
   "execution_count": null,
   "metadata": {},
   "outputs": [],
   "source": []
  }
 ],
 "metadata": {
  "kernelspec": {
   "display_name": "Python 3",
   "language": "python",
   "name": "python3"
  },
  "language_info": {
   "codemirror_mode": {
    "name": "ipython",
    "version": 3
   },
   "file_extension": ".py",
   "mimetype": "text/x-python",
   "name": "python",
   "nbconvert_exporter": "python",
   "pygments_lexer": "ipython3",
   "version": "3.8.3"
  }
 },
 "nbformat": 4,
 "nbformat_minor": 2
}
